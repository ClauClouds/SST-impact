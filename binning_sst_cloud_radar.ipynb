{
 "cells": [
  {
   "cell_type": "markdown",
   "id": "02348245",
   "metadata": {},
   "source": [
    "binning the SST for the cloud radar data"
   ]
  },
  {
   "cell_type": "code",
   "execution_count": 16,
   "id": "65ddf894",
   "metadata": {},
   "outputs": [],
   "source": [
    "# importing necessary libraries\n",
    "import matplotlib.pyplot as plt\n",
    "from matplotlib import rcParams\n",
    "import matplotlib\n",
    "import numpy as np\n",
    "import xarray as xr\n",
    "from datetime import datetime, timedelta\n",
    "import matplotlib.dates as mdates\n",
    "import glob\n",
    "from myFunctions import lcl\n",
    "from myFunctions import f_closest\n",
    "from warnings import warn\n",
    "import numpy as np\n",
    "import pandas as pd\n",
    "import atmos\n",
    "import datetime as dt\n",
    "import matplotlib.pyplot as plt\n",
    "from scipy import interpolate\n",
    "import custom_color_palette as ccp\n",
    "from matplotlib import rcParams\n",
    "import matplotlib.ticker as ticker\n",
    "\n",
    "\n",
    "def f_interpolate_SST_and_merge(SST_DS, dataset_obs):\n",
    "    '''function to interpolate SST values on the time resolution of the observations given as input\n",
    "    input: \n",
    "    SST_DS: xarray dataset containing sst values\n",
    "    dataset_obs: xarray dataset containing the observations to merge with sst data\n",
    "    output: \n",
    "    data_merged: data returned \n",
    "    '''\n",
    "    \n",
    "    # interpolating sst data at 1 min resolution to the 10 s res of the wind lidar\n",
    "    sst_data_interp = SST_DS.interp(time=dataset_obs['time'].values)\n",
    "\n",
    "    # merging the interpolated dataset and the wind lidar dataset\n",
    "    data_merged = xr.merge([dataset_obs, sst_data_interp])\n",
    "    return(data_merged)\n",
    "\n",
    "\n",
    "def f_calculate_binned_data(data_input, SST_binned_arr):\n",
    "    \n",
    "    ''' function to calculate mean values of all variables for each SST bin, for all instruments\n",
    "    author: Claudia Acquistapace\n",
    "    date: 20 Sept 2021\n",
    "    input: - data_input: input xarray dataset containing the variables as a function of time, height, to be averaged\n",
    "            - SST_binned_arr: numpy array of sst binned values for calculating the mean \n",
    "    output: dataset_concat: xarray dataset of concatenated values with mean profiles corresponding to the sst bins. A variable n_el counts the number of profiles averaged together\n",
    "    '''\n",
    "    # calculating mean quantities f\n",
    "    dataset_mean = []\n",
    "\n",
    "    data_input = data_input.load()\n",
    "\n",
    "    # selecting all columns in the bin interval\n",
    "    for ind_bin in range(len(SST_binned_arr)-1):\n",
    "\n",
    "        # selecting slices of datasets columns with SST values in the selected bin\n",
    "        DS_sliced = data_merged.where((data_input.SST > SST_binned_arr[ind_bin]) & (data_input.SST < SST_binned_arr[ind_bin+1]), drop=True)\n",
    "\n",
    "        # add variable of the number of elements of the slice\n",
    "        n_el = len(DS_sliced.SST.values)\n",
    "        DS_sliced['n_elements'] = n_el\n",
    "\n",
    "        # calculate mean profile averaging all selected time stamps together\n",
    "        dataset_mean.append(DS_sliced.mean(dim='time', skipna=True))\n",
    "\n",
    "\n",
    "    # concatenating datasets corresponding to SST bins on a new bin dimension\n",
    "    dataset_concat = xr.concat([dataset_mean[i] for i in np.arange(len(dataset_mean))], dim='SST_binned')\n",
    "    return(dataset_concat)\n",
    "\n",
    "def f_calc_tot_cloud_fraction(matrix):\n",
    "    '''\n",
    "    function to calculate the total cloud fraction of a matrix (time, height)\n",
    "    \n",
    "\n",
    "    Parameters\n",
    "    ----------\n",
    "    matrix : ndarray (time, height)\n",
    "        DESCRIPTION. reflectivity values\n",
    "\n",
    "    Returns\n",
    "    -------\n",
    "    cloud fraction ndarray(time)\n",
    "\n",
    "    '''\n",
    "    #defining ndarray to contain cloud fraction\n",
    "    cloud_fraction = []\n",
    "    N_tot = matrix.shape[0]\n",
    "    for ind_height in range(matrix.shape[1]):\n",
    "        cloud_fraction.append(np.sum(~np.isnan(matrix[:,ind_height]))/N_tot)\n",
    "\n",
    "\n",
    "    return(np.asarray(cloud_fraction))"
   ]
  },
  {
   "cell_type": "code",
   "execution_count": 2,
   "id": "3885710a",
   "metadata": {},
   "outputs": [
    {
     "name": "stdout",
     "output_type": "stream",
     "text": [
      "['/Volumes/Extreme SSD/work/006_projects/001_Prec_Trade_Cycle/post_processed_data/20200202_flags_cloud_properties.nc'\n",
      " '/Volumes/Extreme SSD/work/006_projects/001_Prec_Trade_Cycle/post_processed_data/20200203_flags_cloud_properties.nc']\n"
     ]
    },
    {
     "name": "stderr",
     "output_type": "stream",
     "text": [
      "/Users/claudia/opt/anaconda3/lib/python3.8/site-packages/xarray/core/alignment.py:307: FutureWarning: Index.__or__ operating as a set operation is deprecated, in the future this will be a logical operation matching Series.__or__.  Use index.union(other) instead\n",
      "  index = joiner(matching_indexes)\n"
     ]
    }
   ],
   "source": [
    "# reading data containing flags to filter out rainy columns\n",
    "flag_file_list = np.sort(glob.glob('/Volumes/Extreme SSD/work/006_projects/001_Prec_Trade_Cycle/post_processed_data/*_flags_cloud_properties.nc'))\n",
    "flag_file_list = flag_file_list[13:15]\n",
    "print(flag_file_list)\n",
    "data_1 = xr.open_dataset(flag_file_list[0])\n",
    "data_2 = xr.open_dataset(flag_file_list[1])\n",
    "data_1 = data_1.drop('cloud_top_height')\n",
    "data_2 = data_2.drop('cloud_top_height')\n",
    "flag_data = xr.merge([data_1, data_2]) #, dim='time')\n",
    "flag_data['time'] = pd.to_datetime(flag_data.time.values)"
   ]
  },
  {
   "cell_type": "code",
   "execution_count": 3,
   "id": "62094597",
   "metadata": {},
   "outputs": [],
   "source": [
    "# reading tsg file ( data with 1 min resolution)\n",
    "tsg_file = \"/Volumes/Extreme SSD/work/006_projects/001_Prec_Trade_Cycle/tsg_sst_data/tsg/nc/msm_089_1_tsg.nc\"\n",
    "\n",
    "# opening ship data and reading sst\n",
    "tsg_data = xr.open_dataset(tsg_file)\n",
    "\n",
    "# identifying time stamps of sst corresponding to time stamps of radiosondes\n",
    "t_start = datetime(2020, 2, 2, 0, 0, 0)\n",
    "t_end = datetime(2020, 2, 3, 23, 59, 59)\n",
    "\n",
    "# slicing tsg datase t for the selected time interval and extracting sst\n",
    "sliced_tsg_ds = tsg_data.sel(TIME=slice(t_start, t_end))\n",
    "tsg_sst = sliced_tsg_ds['TEMP'].values\n",
    "tsg_time_sst = sliced_tsg_ds['TIME'].values\n",
    "tsg_flag = sliced_tsg_ds['TEMP_QC'].values\n",
    "\n",
    "# averaging together the sst of the different sst sensors for tsg\n",
    "temp0 = sliced_tsg_ds.TEMP[:,0].values\n",
    "temp1 = sliced_tsg_ds.TEMP[:,1].values\n",
    "sst_tsg = temp0\n",
    "sst_tsg[np.isnan(temp0)] = temp1[np.isnan(temp0)]\n",
    "\n",
    "# producing output dataset of sst_tsg for the selected time window\n",
    "# creating dataset with coordinates sst and height\n",
    "dim_sst           = ['time']\n",
    "coords         = {\"time\":sliced_tsg_ds.TIME.values}\n",
    "SST              = xr.DataArray(dims=dim_sst, coords=coords, data=sst_tsg,\n",
    "                 attrs={'long_name':'sea surface temperature ',\n",
    "                        'units':'$^{\\circ}$C'})\n",
    "variables         = {'SST':SST}\n",
    "SST_DS      = xr.Dataset(data_vars = variables,\n",
    "                       coords = coords)"
   ]
  },
  {
   "cell_type": "code",
   "execution_count": 4,
   "id": "c334d7e4",
   "metadata": {},
   "outputs": [],
   "source": [
    "# building SST binned array\n",
    "SST_min = np.nanmin(sst_tsg)\n",
    "SST_max = np.nanmax(sst_tsg)\n",
    "SST_binned_arr = np.arange(SST_min, SST_max, step=0.025)\n",
    "\n",
    "\n",
    "# calculate label marks for bins\n",
    "sst_bin_label = []\n",
    "for ind in range(len(SST_binned_arr)-1):\n",
    "    sst_bin_label.append(round((SST_binned_arr[ind]+SST_binned_arr[ind+1])/2,2))\n",
    "    \n"
   ]
  },
  {
   "cell_type": "code",
   "execution_count": 5,
   "id": "3cc517c1",
   "metadata": {},
   "outputs": [
    {
     "name": "stderr",
     "output_type": "stream",
     "text": [
      "/Users/claudia/opt/anaconda3/lib/python3.8/site-packages/xarray/core/alignment.py:307: FutureWarning: Index.__or__ operating as a set operation is deprecated, in the future this will be a logical operation matching Series.__or__.  Use index.union(other) instead\n",
      "  index = joiner(matching_indexes)\n"
     ]
    }
   ],
   "source": [
    "# reading radar file list\n",
    "file_list = np.sort(glob.glob(\"/Volumes/Extreme SSD/ship_motion_correction_merian/corrected_data/wband_daily_with_DOI/latest/with_DOI/daily_intake/*.nc\"))\n",
    "file_list = file_list[14:16]\n",
    "\n",
    "# set the processing mode keyword for the data you want to be processed\n",
    "processing_mode = 'case_study' # 'all_campaign' #\n",
    "\n",
    "# setting time window to be checked\n",
    "string_out = '20200202_20200203'\n",
    "t_start = datetime(2020, 2, 2, 0, 0, 0)\n",
    "t_end = datetime(2020, 2, 3, 23, 59, 59)\n",
    "\n",
    "\n",
    "data_1 = xr.open_dataset(file_list[0])\n",
    "data_2 = xr.open_dataset(file_list[1])\n",
    "radar_data = xr.merge([data_1, data_2]) \n"
   ]
  },
  {
   "cell_type": "code",
   "execution_count": 13,
   "id": "dd3f1c24",
   "metadata": {},
   "outputs": [],
   "source": [
    "file_list = np.sort(glob.glob(\"/Volumes/Extreme SSD/ship_motion_correction_merian/corrected_data/wband_daily_with_DOI/latest/with_DOI/daily_intake/*.nc\"))\n",
    "file_list[9:17]\n",
    "radar_data_dc = xr.open_mfdataset(file_list[9:17])\n",
    "time_dc = pd.to_datetime(radar_data_dc.time.values)"
   ]
  },
  {
   "cell_type": "code",
   "execution_count": 14,
   "id": "56bae465",
   "metadata": {},
   "outputs": [
    {
     "data": {
      "text/plain": [
       "DatetimeIndex(['2020-01-28 00:00:01', '2020-01-28 00:00:04',\n",
       "               '2020-01-28 00:00:07', '2020-01-28 00:00:10',\n",
       "               '2020-01-28 00:00:13', '2020-01-28 00:00:17',\n",
       "               '2020-01-28 00:00:20', '2020-01-28 00:00:23',\n",
       "               '2020-01-28 00:00:26', '2020-01-28 00:00:29',\n",
       "               ...\n",
       "               '2020-02-04 23:59:30', '2020-02-04 23:59:34',\n",
       "               '2020-02-04 23:59:37', '2020-02-04 23:59:40',\n",
       "               '2020-02-04 23:59:43', '2020-02-04 23:59:46',\n",
       "               '2020-02-04 23:59:50', '2020-02-04 23:59:53',\n",
       "               '2020-02-04 23:59:56', '2020-02-04 23:59:59'],\n",
       "              dtype='datetime64[ns]', length=213732, freq=None)"
      ]
     },
     "execution_count": 14,
     "metadata": {},
     "output_type": "execute_result"
    }
   ],
   "source": [
    "time_dc"
   ]
  },
  {
   "cell_type": "code",
   "execution_count": 17,
   "id": "7b9e1319",
   "metadata": {},
   "outputs": [
    {
     "ename": "KeyboardInterrupt",
     "evalue": "",
     "output_type": "error",
     "traceback": [
      "\u001b[0;31m---------------------------------------------------------------------------\u001b[0m",
      "\u001b[0;31mKeyboardInterrupt\u001b[0m                         Traceback (most recent call last)",
      "\u001b[0;32m<ipython-input-17-83ab514cf774>\u001b[0m in \u001b[0;36m<module>\u001b[0;34m\u001b[0m\n\u001b[1;32m      8\u001b[0m     \u001b[0mdata\u001b[0m \u001b[0;34m=\u001b[0m \u001b[0mradar_data_dc\u001b[0m\u001b[0;34m.\u001b[0m\u001b[0msel\u001b[0m\u001b[0;34m(\u001b[0m\u001b[0mtime\u001b[0m\u001b[0;34m=\u001b[0m\u001b[0mslice\u001b[0m\u001b[0;34m(\u001b[0m\u001b[0mtime_cloud_fraction\u001b[0m\u001b[0;34m[\u001b[0m\u001b[0mitime\u001b[0m\u001b[0;34m]\u001b[0m\u001b[0;34m,\u001b[0m \u001b[0mtime_cloud_fraction\u001b[0m\u001b[0;34m[\u001b[0m\u001b[0mitime\u001b[0m\u001b[0;34m+\u001b[0m\u001b[0;36m1\u001b[0m\u001b[0;34m]\u001b[0m\u001b[0;34m)\u001b[0m\u001b[0;34m)\u001b[0m\u001b[0;34m\u001b[0m\u001b[0;34m\u001b[0m\u001b[0m\n\u001b[1;32m      9\u001b[0m     \u001b[0;32mfor\u001b[0m \u001b[0miheight\u001b[0m \u001b[0;32min\u001b[0m \u001b[0mrange\u001b[0m\u001b[0;34m(\u001b[0m\u001b[0mdim_height\u001b[0m\u001b[0;34m)\u001b[0m\u001b[0;34m:\u001b[0m\u001b[0;34m\u001b[0m\u001b[0;34m\u001b[0m\u001b[0m\n\u001b[0;32m---> 10\u001b[0;31m         \u001b[0mcloud_fraction\u001b[0m\u001b[0;34m[\u001b[0m\u001b[0mitime\u001b[0m\u001b[0;34m,\u001b[0m \u001b[0miheight\u001b[0m\u001b[0;34m]\u001b[0m \u001b[0;34m=\u001b[0m \u001b[0mnp\u001b[0m\u001b[0;34m.\u001b[0m\u001b[0mcount_nonzero\u001b[0m\u001b[0;34m(\u001b[0m\u001b[0;34m~\u001b[0m\u001b[0mnp\u001b[0m\u001b[0;34m.\u001b[0m\u001b[0misnan\u001b[0m\u001b[0;34m(\u001b[0m\u001b[0mradar_data_dc\u001b[0m\u001b[0;34m.\u001b[0m\u001b[0mradar_reflectivity\u001b[0m\u001b[0;34m.\u001b[0m\u001b[0mvalues\u001b[0m\u001b[0;34m[\u001b[0m\u001b[0;34m:\u001b[0m\u001b[0;34m,\u001b[0m\u001b[0miheight\u001b[0m\u001b[0;34m]\u001b[0m\u001b[0;34m)\u001b[0m\u001b[0;34m)\u001b[0m\u001b[0;34m/\u001b[0m\u001b[0mnp\u001b[0m\u001b[0;34m.\u001b[0m\u001b[0mshape\u001b[0m\u001b[0;34m(\u001b[0m\u001b[0mradar_data_dc\u001b[0m\u001b[0;34m.\u001b[0m\u001b[0mradar_reflectivity\u001b[0m\u001b[0;34m.\u001b[0m\u001b[0mvalues\u001b[0m\u001b[0;34m[\u001b[0m\u001b[0;34m:\u001b[0m\u001b[0;34m,\u001b[0m\u001b[0miheight\u001b[0m\u001b[0;34m]\u001b[0m\u001b[0;34m)\u001b[0m\u001b[0;34m[\u001b[0m\u001b[0;36m0\u001b[0m\u001b[0;34m]\u001b[0m\u001b[0;34m\u001b[0m\u001b[0;34m\u001b[0m\u001b[0m\n\u001b[0m\u001b[1;32m     11\u001b[0m \u001b[0;34m\u001b[0m\u001b[0m\n",
      "\u001b[0;32m~/opt/anaconda3/lib/python3.8/site-packages/xarray/core/dataarray.py\u001b[0m in \u001b[0;36mvalues\u001b[0;34m(self)\u001b[0m\n\u001b[1;32m    567\u001b[0m     \u001b[0;32mdef\u001b[0m \u001b[0mvalues\u001b[0m\u001b[0;34m(\u001b[0m\u001b[0mself\u001b[0m\u001b[0;34m)\u001b[0m \u001b[0;34m->\u001b[0m \u001b[0mnp\u001b[0m\u001b[0;34m.\u001b[0m\u001b[0mndarray\u001b[0m\u001b[0;34m:\u001b[0m\u001b[0;34m\u001b[0m\u001b[0;34m\u001b[0m\u001b[0m\n\u001b[1;32m    568\u001b[0m         \u001b[0;34m\"\"\"The array's data as a numpy.ndarray\"\"\"\u001b[0m\u001b[0;34m\u001b[0m\u001b[0;34m\u001b[0m\u001b[0m\n\u001b[0;32m--> 569\u001b[0;31m         \u001b[0;32mreturn\u001b[0m \u001b[0mself\u001b[0m\u001b[0;34m.\u001b[0m\u001b[0mvariable\u001b[0m\u001b[0;34m.\u001b[0m\u001b[0mvalues\u001b[0m\u001b[0;34m\u001b[0m\u001b[0;34m\u001b[0m\u001b[0m\n\u001b[0m\u001b[1;32m    570\u001b[0m \u001b[0;34m\u001b[0m\u001b[0m\n\u001b[1;32m    571\u001b[0m     \u001b[0;34m@\u001b[0m\u001b[0mvalues\u001b[0m\u001b[0;34m.\u001b[0m\u001b[0msetter\u001b[0m\u001b[0;34m\u001b[0m\u001b[0;34m\u001b[0m\u001b[0m\n",
      "\u001b[0;32m~/opt/anaconda3/lib/python3.8/site-packages/xarray/core/variable.py\u001b[0m in \u001b[0;36mvalues\u001b[0;34m(self)\u001b[0m\n\u001b[1;32m    508\u001b[0m     \u001b[0;32mdef\u001b[0m \u001b[0mvalues\u001b[0m\u001b[0;34m(\u001b[0m\u001b[0mself\u001b[0m\u001b[0;34m)\u001b[0m\u001b[0;34m:\u001b[0m\u001b[0;34m\u001b[0m\u001b[0;34m\u001b[0m\u001b[0m\n\u001b[1;32m    509\u001b[0m         \u001b[0;34m\"\"\"The variable's data as a numpy.ndarray\"\"\"\u001b[0m\u001b[0;34m\u001b[0m\u001b[0;34m\u001b[0m\u001b[0m\n\u001b[0;32m--> 510\u001b[0;31m         \u001b[0;32mreturn\u001b[0m \u001b[0m_as_array_or_item\u001b[0m\u001b[0;34m(\u001b[0m\u001b[0mself\u001b[0m\u001b[0;34m.\u001b[0m\u001b[0m_data\u001b[0m\u001b[0;34m)\u001b[0m\u001b[0;34m\u001b[0m\u001b[0;34m\u001b[0m\u001b[0m\n\u001b[0m\u001b[1;32m    511\u001b[0m \u001b[0;34m\u001b[0m\u001b[0m\n\u001b[1;32m    512\u001b[0m     \u001b[0;34m@\u001b[0m\u001b[0mvalues\u001b[0m\u001b[0;34m.\u001b[0m\u001b[0msetter\u001b[0m\u001b[0;34m\u001b[0m\u001b[0;34m\u001b[0m\u001b[0m\n",
      "\u001b[0;32m~/opt/anaconda3/lib/python3.8/site-packages/xarray/core/variable.py\u001b[0m in \u001b[0;36m_as_array_or_item\u001b[0;34m(data)\u001b[0m\n\u001b[1;32m    270\u001b[0m         \u001b[0mdata\u001b[0m \u001b[0;34m=\u001b[0m \u001b[0mdata\u001b[0m\u001b[0;34m.\u001b[0m\u001b[0mget\u001b[0m\u001b[0;34m(\u001b[0m\u001b[0;34m)\u001b[0m\u001b[0;34m\u001b[0m\u001b[0;34m\u001b[0m\u001b[0m\n\u001b[1;32m    271\u001b[0m     \u001b[0;32melse\u001b[0m\u001b[0;34m:\u001b[0m\u001b[0;34m\u001b[0m\u001b[0;34m\u001b[0m\u001b[0m\n\u001b[0;32m--> 272\u001b[0;31m         \u001b[0mdata\u001b[0m \u001b[0;34m=\u001b[0m \u001b[0mnp\u001b[0m\u001b[0;34m.\u001b[0m\u001b[0masarray\u001b[0m\u001b[0;34m(\u001b[0m\u001b[0mdata\u001b[0m\u001b[0;34m)\u001b[0m\u001b[0;34m\u001b[0m\u001b[0;34m\u001b[0m\u001b[0m\n\u001b[0m\u001b[1;32m    273\u001b[0m     \u001b[0;32mif\u001b[0m \u001b[0mdata\u001b[0m\u001b[0;34m.\u001b[0m\u001b[0mndim\u001b[0m \u001b[0;34m==\u001b[0m \u001b[0;36m0\u001b[0m\u001b[0;34m:\u001b[0m\u001b[0;34m\u001b[0m\u001b[0;34m\u001b[0m\u001b[0m\n\u001b[1;32m    274\u001b[0m         \u001b[0;32mif\u001b[0m \u001b[0mdata\u001b[0m\u001b[0;34m.\u001b[0m\u001b[0mdtype\u001b[0m\u001b[0;34m.\u001b[0m\u001b[0mkind\u001b[0m \u001b[0;34m==\u001b[0m \u001b[0;34m\"M\"\u001b[0m\u001b[0;34m:\u001b[0m\u001b[0;34m\u001b[0m\u001b[0;34m\u001b[0m\u001b[0m\n",
      "\u001b[0;32m~/opt/anaconda3/lib/python3.8/site-packages/numpy/core/_asarray.py\u001b[0m in \u001b[0;36masarray\u001b[0;34m(a, dtype, order, like)\u001b[0m\n\u001b[1;32m    100\u001b[0m         \u001b[0;32mreturn\u001b[0m \u001b[0m_asarray_with_like\u001b[0m\u001b[0;34m(\u001b[0m\u001b[0ma\u001b[0m\u001b[0;34m,\u001b[0m \u001b[0mdtype\u001b[0m\u001b[0;34m=\u001b[0m\u001b[0mdtype\u001b[0m\u001b[0;34m,\u001b[0m \u001b[0morder\u001b[0m\u001b[0;34m=\u001b[0m\u001b[0morder\u001b[0m\u001b[0;34m,\u001b[0m \u001b[0mlike\u001b[0m\u001b[0;34m=\u001b[0m\u001b[0mlike\u001b[0m\u001b[0;34m)\u001b[0m\u001b[0;34m\u001b[0m\u001b[0;34m\u001b[0m\u001b[0m\n\u001b[1;32m    101\u001b[0m \u001b[0;34m\u001b[0m\u001b[0m\n\u001b[0;32m--> 102\u001b[0;31m     \u001b[0;32mreturn\u001b[0m \u001b[0marray\u001b[0m\u001b[0;34m(\u001b[0m\u001b[0ma\u001b[0m\u001b[0;34m,\u001b[0m \u001b[0mdtype\u001b[0m\u001b[0;34m,\u001b[0m \u001b[0mcopy\u001b[0m\u001b[0;34m=\u001b[0m\u001b[0;32mFalse\u001b[0m\u001b[0;34m,\u001b[0m \u001b[0morder\u001b[0m\u001b[0;34m=\u001b[0m\u001b[0morder\u001b[0m\u001b[0;34m)\u001b[0m\u001b[0;34m\u001b[0m\u001b[0;34m\u001b[0m\u001b[0m\n\u001b[0m\u001b[1;32m    103\u001b[0m \u001b[0;34m\u001b[0m\u001b[0m\n\u001b[1;32m    104\u001b[0m \u001b[0;34m\u001b[0m\u001b[0m\n",
      "\u001b[0;32m~/opt/anaconda3/lib/python3.8/site-packages/dask/array/core.py\u001b[0m in \u001b[0;36m__array__\u001b[0;34m(self, dtype, **kwargs)\u001b[0m\n\u001b[1;32m   1474\u001b[0m \u001b[0;34m\u001b[0m\u001b[0m\n\u001b[1;32m   1475\u001b[0m     \u001b[0;32mdef\u001b[0m \u001b[0m__array__\u001b[0m\u001b[0;34m(\u001b[0m\u001b[0mself\u001b[0m\u001b[0;34m,\u001b[0m \u001b[0mdtype\u001b[0m\u001b[0;34m=\u001b[0m\u001b[0;32mNone\u001b[0m\u001b[0;34m,\u001b[0m \u001b[0;34m**\u001b[0m\u001b[0mkwargs\u001b[0m\u001b[0;34m)\u001b[0m\u001b[0;34m:\u001b[0m\u001b[0;34m\u001b[0m\u001b[0;34m\u001b[0m\u001b[0m\n\u001b[0;32m-> 1476\u001b[0;31m         \u001b[0mx\u001b[0m \u001b[0;34m=\u001b[0m \u001b[0mself\u001b[0m\u001b[0;34m.\u001b[0m\u001b[0mcompute\u001b[0m\u001b[0;34m(\u001b[0m\u001b[0;34m)\u001b[0m\u001b[0;34m\u001b[0m\u001b[0;34m\u001b[0m\u001b[0m\n\u001b[0m\u001b[1;32m   1477\u001b[0m         \u001b[0;32mif\u001b[0m \u001b[0mdtype\u001b[0m \u001b[0;32mand\u001b[0m \u001b[0mx\u001b[0m\u001b[0;34m.\u001b[0m\u001b[0mdtype\u001b[0m \u001b[0;34m!=\u001b[0m \u001b[0mdtype\u001b[0m\u001b[0;34m:\u001b[0m\u001b[0;34m\u001b[0m\u001b[0;34m\u001b[0m\u001b[0m\n\u001b[1;32m   1478\u001b[0m             \u001b[0mx\u001b[0m \u001b[0;34m=\u001b[0m \u001b[0mx\u001b[0m\u001b[0;34m.\u001b[0m\u001b[0mastype\u001b[0m\u001b[0;34m(\u001b[0m\u001b[0mdtype\u001b[0m\u001b[0;34m)\u001b[0m\u001b[0;34m\u001b[0m\u001b[0;34m\u001b[0m\u001b[0m\n",
      "\u001b[0;32m~/opt/anaconda3/lib/python3.8/site-packages/dask/base.py\u001b[0m in \u001b[0;36mcompute\u001b[0;34m(self, **kwargs)\u001b[0m\n\u001b[1;32m    282\u001b[0m         \u001b[0mdask\u001b[0m\u001b[0;34m.\u001b[0m\u001b[0mbase\u001b[0m\u001b[0;34m.\u001b[0m\u001b[0mcompute\u001b[0m\u001b[0;34m\u001b[0m\u001b[0;34m\u001b[0m\u001b[0m\n\u001b[1;32m    283\u001b[0m         \"\"\"\n\u001b[0;32m--> 284\u001b[0;31m         \u001b[0;34m(\u001b[0m\u001b[0mresult\u001b[0m\u001b[0;34m,\u001b[0m\u001b[0;34m)\u001b[0m \u001b[0;34m=\u001b[0m \u001b[0mcompute\u001b[0m\u001b[0;34m(\u001b[0m\u001b[0mself\u001b[0m\u001b[0;34m,\u001b[0m \u001b[0mtraverse\u001b[0m\u001b[0;34m=\u001b[0m\u001b[0;32mFalse\u001b[0m\u001b[0;34m,\u001b[0m \u001b[0;34m**\u001b[0m\u001b[0mkwargs\u001b[0m\u001b[0;34m)\u001b[0m\u001b[0;34m\u001b[0m\u001b[0;34m\u001b[0m\u001b[0m\n\u001b[0m\u001b[1;32m    285\u001b[0m         \u001b[0;32mreturn\u001b[0m \u001b[0mresult\u001b[0m\u001b[0;34m\u001b[0m\u001b[0;34m\u001b[0m\u001b[0m\n\u001b[1;32m    286\u001b[0m \u001b[0;34m\u001b[0m\u001b[0m\n",
      "\u001b[0;32m~/opt/anaconda3/lib/python3.8/site-packages/dask/base.py\u001b[0m in \u001b[0;36mcompute\u001b[0;34m(*args, **kwargs)\u001b[0m\n\u001b[1;32m    564\u001b[0m         \u001b[0mpostcomputes\u001b[0m\u001b[0;34m.\u001b[0m\u001b[0mappend\u001b[0m\u001b[0;34m(\u001b[0m\u001b[0mx\u001b[0m\u001b[0;34m.\u001b[0m\u001b[0m__dask_postcompute__\u001b[0m\u001b[0;34m(\u001b[0m\u001b[0;34m)\u001b[0m\u001b[0;34m)\u001b[0m\u001b[0;34m\u001b[0m\u001b[0;34m\u001b[0m\u001b[0m\n\u001b[1;32m    565\u001b[0m \u001b[0;34m\u001b[0m\u001b[0m\n\u001b[0;32m--> 566\u001b[0;31m     \u001b[0mresults\u001b[0m \u001b[0;34m=\u001b[0m \u001b[0mschedule\u001b[0m\u001b[0;34m(\u001b[0m\u001b[0mdsk\u001b[0m\u001b[0;34m,\u001b[0m \u001b[0mkeys\u001b[0m\u001b[0;34m,\u001b[0m \u001b[0;34m**\u001b[0m\u001b[0mkwargs\u001b[0m\u001b[0;34m)\u001b[0m\u001b[0;34m\u001b[0m\u001b[0;34m\u001b[0m\u001b[0m\n\u001b[0m\u001b[1;32m    567\u001b[0m     \u001b[0;32mreturn\u001b[0m \u001b[0mrepack\u001b[0m\u001b[0;34m(\u001b[0m\u001b[0;34m[\u001b[0m\u001b[0mf\u001b[0m\u001b[0;34m(\u001b[0m\u001b[0mr\u001b[0m\u001b[0;34m,\u001b[0m \u001b[0;34m*\u001b[0m\u001b[0ma\u001b[0m\u001b[0;34m)\u001b[0m \u001b[0;32mfor\u001b[0m \u001b[0mr\u001b[0m\u001b[0;34m,\u001b[0m \u001b[0;34m(\u001b[0m\u001b[0mf\u001b[0m\u001b[0;34m,\u001b[0m \u001b[0ma\u001b[0m\u001b[0;34m)\u001b[0m \u001b[0;32min\u001b[0m \u001b[0mzip\u001b[0m\u001b[0;34m(\u001b[0m\u001b[0mresults\u001b[0m\u001b[0;34m,\u001b[0m \u001b[0mpostcomputes\u001b[0m\u001b[0;34m)\u001b[0m\u001b[0;34m]\u001b[0m\u001b[0;34m)\u001b[0m\u001b[0;34m\u001b[0m\u001b[0;34m\u001b[0m\u001b[0m\n\u001b[1;32m    568\u001b[0m \u001b[0;34m\u001b[0m\u001b[0m\n",
      "\u001b[0;32m~/opt/anaconda3/lib/python3.8/site-packages/dask/threaded.py\u001b[0m in \u001b[0;36mget\u001b[0;34m(dsk, result, cache, num_workers, pool, **kwargs)\u001b[0m\n\u001b[1;32m     77\u001b[0m             \u001b[0mpool\u001b[0m \u001b[0;34m=\u001b[0m \u001b[0mMultiprocessingPoolExecutor\u001b[0m\u001b[0;34m(\u001b[0m\u001b[0mpool\u001b[0m\u001b[0;34m)\u001b[0m\u001b[0;34m\u001b[0m\u001b[0;34m\u001b[0m\u001b[0m\n\u001b[1;32m     78\u001b[0m \u001b[0;34m\u001b[0m\u001b[0m\n\u001b[0;32m---> 79\u001b[0;31m     results = get_async(\n\u001b[0m\u001b[1;32m     80\u001b[0m         \u001b[0mpool\u001b[0m\u001b[0;34m.\u001b[0m\u001b[0msubmit\u001b[0m\u001b[0;34m,\u001b[0m\u001b[0;34m\u001b[0m\u001b[0;34m\u001b[0m\u001b[0m\n\u001b[1;32m     81\u001b[0m         \u001b[0mpool\u001b[0m\u001b[0;34m.\u001b[0m\u001b[0m_max_workers\u001b[0m\u001b[0;34m,\u001b[0m\u001b[0;34m\u001b[0m\u001b[0;34m\u001b[0m\u001b[0m\n",
      "\u001b[0;32m~/opt/anaconda3/lib/python3.8/site-packages/dask/local.py\u001b[0m in \u001b[0;36mget_async\u001b[0;34m(submit, num_workers, dsk, result, cache, get_id, rerun_exceptions_locally, pack_exception, raise_exception, callbacks, dumps, loads, chunksize, **kwargs)\u001b[0m\n\u001b[1;32m    501\u001b[0m             \u001b[0;32mwhile\u001b[0m \u001b[0mstate\u001b[0m\u001b[0;34m[\u001b[0m\u001b[0;34m\"waiting\"\u001b[0m\u001b[0;34m]\u001b[0m \u001b[0;32mor\u001b[0m \u001b[0mstate\u001b[0m\u001b[0;34m[\u001b[0m\u001b[0;34m\"ready\"\u001b[0m\u001b[0;34m]\u001b[0m \u001b[0;32mor\u001b[0m \u001b[0mstate\u001b[0m\u001b[0;34m[\u001b[0m\u001b[0;34m\"running\"\u001b[0m\u001b[0;34m]\u001b[0m\u001b[0;34m:\u001b[0m\u001b[0;34m\u001b[0m\u001b[0;34m\u001b[0m\u001b[0m\n\u001b[1;32m    502\u001b[0m                 \u001b[0mfire_tasks\u001b[0m\u001b[0;34m(\u001b[0m\u001b[0mchunksize\u001b[0m\u001b[0;34m)\u001b[0m\u001b[0;34m\u001b[0m\u001b[0;34m\u001b[0m\u001b[0m\n\u001b[0;32m--> 503\u001b[0;31m                 \u001b[0;32mfor\u001b[0m \u001b[0mkey\u001b[0m\u001b[0;34m,\u001b[0m \u001b[0mres_info\u001b[0m\u001b[0;34m,\u001b[0m \u001b[0mfailed\u001b[0m \u001b[0;32min\u001b[0m \u001b[0mqueue_get\u001b[0m\u001b[0;34m(\u001b[0m\u001b[0mqueue\u001b[0m\u001b[0;34m)\u001b[0m\u001b[0;34m.\u001b[0m\u001b[0mresult\u001b[0m\u001b[0;34m(\u001b[0m\u001b[0;34m)\u001b[0m\u001b[0;34m:\u001b[0m\u001b[0;34m\u001b[0m\u001b[0;34m\u001b[0m\u001b[0m\n\u001b[0m\u001b[1;32m    504\u001b[0m                     \u001b[0;32mif\u001b[0m \u001b[0mfailed\u001b[0m\u001b[0;34m:\u001b[0m\u001b[0;34m\u001b[0m\u001b[0;34m\u001b[0m\u001b[0m\n\u001b[1;32m    505\u001b[0m                         \u001b[0mexc\u001b[0m\u001b[0;34m,\u001b[0m \u001b[0mtb\u001b[0m \u001b[0;34m=\u001b[0m \u001b[0mloads\u001b[0m\u001b[0;34m(\u001b[0m\u001b[0mres_info\u001b[0m\u001b[0;34m)\u001b[0m\u001b[0;34m\u001b[0m\u001b[0;34m\u001b[0m\u001b[0m\n",
      "\u001b[0;32m~/opt/anaconda3/lib/python3.8/site-packages/dask/local.py\u001b[0m in \u001b[0;36mqueue_get\u001b[0;34m(q)\u001b[0m\n\u001b[1;32m    132\u001b[0m \u001b[0;34m\u001b[0m\u001b[0m\n\u001b[1;32m    133\u001b[0m     \u001b[0;32mdef\u001b[0m \u001b[0mqueue_get\u001b[0m\u001b[0;34m(\u001b[0m\u001b[0mq\u001b[0m\u001b[0;34m)\u001b[0m\u001b[0;34m:\u001b[0m\u001b[0;34m\u001b[0m\u001b[0;34m\u001b[0m\u001b[0m\n\u001b[0;32m--> 134\u001b[0;31m         \u001b[0;32mreturn\u001b[0m \u001b[0mq\u001b[0m\u001b[0;34m.\u001b[0m\u001b[0mget\u001b[0m\u001b[0;34m(\u001b[0m\u001b[0;34m)\u001b[0m\u001b[0;34m\u001b[0m\u001b[0;34m\u001b[0m\u001b[0m\n\u001b[0m\u001b[1;32m    135\u001b[0m \u001b[0;34m\u001b[0m\u001b[0m\n\u001b[1;32m    136\u001b[0m \u001b[0;34m\u001b[0m\u001b[0m\n",
      "\u001b[0;32m~/opt/anaconda3/lib/python3.8/queue.py\u001b[0m in \u001b[0;36mget\u001b[0;34m(self, block, timeout)\u001b[0m\n\u001b[1;32m    168\u001b[0m             \u001b[0;32melif\u001b[0m \u001b[0mtimeout\u001b[0m \u001b[0;32mis\u001b[0m \u001b[0;32mNone\u001b[0m\u001b[0;34m:\u001b[0m\u001b[0;34m\u001b[0m\u001b[0;34m\u001b[0m\u001b[0m\n\u001b[1;32m    169\u001b[0m                 \u001b[0;32mwhile\u001b[0m \u001b[0;32mnot\u001b[0m \u001b[0mself\u001b[0m\u001b[0;34m.\u001b[0m\u001b[0m_qsize\u001b[0m\u001b[0;34m(\u001b[0m\u001b[0;34m)\u001b[0m\u001b[0;34m:\u001b[0m\u001b[0;34m\u001b[0m\u001b[0;34m\u001b[0m\u001b[0m\n\u001b[0;32m--> 170\u001b[0;31m                     \u001b[0mself\u001b[0m\u001b[0;34m.\u001b[0m\u001b[0mnot_empty\u001b[0m\u001b[0;34m.\u001b[0m\u001b[0mwait\u001b[0m\u001b[0;34m(\u001b[0m\u001b[0;34m)\u001b[0m\u001b[0;34m\u001b[0m\u001b[0;34m\u001b[0m\u001b[0m\n\u001b[0m\u001b[1;32m    171\u001b[0m             \u001b[0;32melif\u001b[0m \u001b[0mtimeout\u001b[0m \u001b[0;34m<\u001b[0m \u001b[0;36m0\u001b[0m\u001b[0;34m:\u001b[0m\u001b[0;34m\u001b[0m\u001b[0;34m\u001b[0m\u001b[0m\n\u001b[1;32m    172\u001b[0m                 \u001b[0;32mraise\u001b[0m \u001b[0mValueError\u001b[0m\u001b[0;34m(\u001b[0m\u001b[0;34m\"'timeout' must be a non-negative number\"\u001b[0m\u001b[0;34m)\u001b[0m\u001b[0;34m\u001b[0m\u001b[0;34m\u001b[0m\u001b[0m\n",
      "\u001b[0;32m~/opt/anaconda3/lib/python3.8/threading.py\u001b[0m in \u001b[0;36mwait\u001b[0;34m(self, timeout)\u001b[0m\n\u001b[1;32m    300\u001b[0m         \u001b[0;32mtry\u001b[0m\u001b[0;34m:\u001b[0m    \u001b[0;31m# restore state no matter what (e.g., KeyboardInterrupt)\u001b[0m\u001b[0;34m\u001b[0m\u001b[0;34m\u001b[0m\u001b[0m\n\u001b[1;32m    301\u001b[0m             \u001b[0;32mif\u001b[0m \u001b[0mtimeout\u001b[0m \u001b[0;32mis\u001b[0m \u001b[0;32mNone\u001b[0m\u001b[0;34m:\u001b[0m\u001b[0;34m\u001b[0m\u001b[0;34m\u001b[0m\u001b[0m\n\u001b[0;32m--> 302\u001b[0;31m                 \u001b[0mwaiter\u001b[0m\u001b[0;34m.\u001b[0m\u001b[0macquire\u001b[0m\u001b[0;34m(\u001b[0m\u001b[0;34m)\u001b[0m\u001b[0;34m\u001b[0m\u001b[0;34m\u001b[0m\u001b[0m\n\u001b[0m\u001b[1;32m    303\u001b[0m                 \u001b[0mgotit\u001b[0m \u001b[0;34m=\u001b[0m \u001b[0;32mTrue\u001b[0m\u001b[0;34m\u001b[0m\u001b[0;34m\u001b[0m\u001b[0m\n\u001b[1;32m    304\u001b[0m             \u001b[0;32melse\u001b[0m\u001b[0;34m:\u001b[0m\u001b[0;34m\u001b[0m\u001b[0;34m\u001b[0m\u001b[0m\n",
      "\u001b[0;31mKeyboardInterrupt\u001b[0m: "
     ]
    }
   ],
   "source": [
    "# calculating diurnal cycle of the cloud fraction\n",
    "time_cloud_fraction = np.arange(time_dc[0], time_dc[-1], timedelta(minutes=10))\n",
    "dim_time_out = len(time_cloud_fraction)\n",
    "dim_height = np.shape(radar_data_dc.radar_reflectivity.values)[1]\n",
    "cloud_fraction = np.zeros((dim_time_out, dim_height))\n",
    "\n",
    "for itime in range(dim_time_out-1):\n",
    "    data = radar_data_dc.sel(time=slice(time_cloud_fraction[itime], time_cloud_fraction[itime+1]))\n",
    "    for iheight in range(dim_height):\n",
    "        cloud_fraction[itime, iheight] = np.count_nonzero(~np.isnan(radar_data_dc.radar_reflectivity.values[:,iheight]))/np.shape(radar_data_dc.radar_reflectivity.values[:,iheight])[0]\n",
    "\n"
   ]
  },
  {
   "cell_type": "code",
   "execution_count": null,
   "id": "77e3919e",
   "metadata": {},
   "outputs": [],
   "source": [
    "print()"
   ]
  },
  {
   "cell_type": "code",
   "execution_count": null,
   "id": "104e4e5f",
   "metadata": {},
   "outputs": [],
   "source": [
    "# building xarray dataset for cloud fraction to apply then the mean operatore\n",
    "dims = ['time', 'height']\n",
    "coords = {'time':time_cloud_fraction, 'height':radar_data_dc.height.values}\n",
    "cf = xr.DataArray(dims=dims, coords=coords, data=cloud_fraction,\n",
    "                 attrs={'long_name':'cloud fraction',\n",
    "                        'units':''})\n",
    "variables={'cloud_fraction':cf}\n",
    "\n",
    "cf_dataset =xr.Dataset(data_vars = variables,\n",
    "                       coords = coords)"
   ]
  },
  {
   "cell_type": "code",
   "execution_count": null,
   "id": "cf75d273",
   "metadata": {},
   "outputs": [],
   "source": [
    "\n",
    "# re-writing time array as hh:mm for then being able to group\n",
    "cf_dataset['time'] = pd.to_datetime(cf_dataset.time.values).strftime(\"%H:%M\")\n",
    "\n",
    "# grouping and calculating mean of the profiles\n",
    "grouped_mean = cf_dataset.groupby('time').mean()\n",
    "#grouped_std = radar_data_dc.groupby('time').std()\n"
   ]
  },
  {
   "cell_type": "code",
   "execution_count": null,
   "id": "34863460",
   "metadata": {},
   "outputs": [],
   "source": [
    "fig2, axs = plt.subplots(1,1, figsize=(16,7), constrained_layout=True)\n",
    "axs.spines[\"top\"].set_visible(False)\n",
    "axs.spines[\"right\"].set_visible(False)\n",
    "axs.spines[\"bottom\"].set_linewidth(3)\n",
    "axs.spines[\"left\"].set_linewidth(3)\n",
    "mesh1 = axs.pcolormesh(pd.to_datetime(grouped_mean['time'].values), grouped_mean['height'].values, \\\n",
    "                             grouped_mean['radar_reflectivity'].values.T, vmin=-50., \\\n",
    "                             vmax=20., cmap='viridis', rasterized=True)\n",
    "cbar = fig2.colorbar(mesh1, ax=axs, label='Reflectivity mean over 10 min', \\\n",
    "                        location='right', aspect=20, use_gridspec=grid)\n",
    "axs.set_xlabel('Time UTC [HH:MM]')\n",
    "axs.set_ylabel('Height [m]')\n",
    "axs.xaxis.set_major_formatter(mdates.DateFormatter(\"%H:%M\"))\n",
    "axs.text(0, 1.02, 'Diurnal cycle of '+dict_var['var_string']+' averaged over '+dict_var['avg_time']+' min', \\\n",
    "            fontweight='black', transform=axs.transAxes)\n",
    "    "
   ]
  },
  {
   "cell_type": "code",
   "execution_count": 8,
   "id": "2e2aa677",
   "metadata": {},
   "outputs": [
    {
     "name": "stderr",
     "output_type": "stream",
     "text": [
      "/Users/claudia/opt/anaconda3/lib/python3.8/site-packages/xarray/core/alignment.py:307: FutureWarning: Index.__or__ operating as a set operation is deprecated, in the future this will be a logical operation matching Series.__or__.  Use index.union(other) instead\n",
      "  index = joiner(matching_indexes)\n"
     ]
    }
   ],
   "source": [
    "\n",
    "\n",
    "\n",
    "\n",
    "\n",
    "# selecting data in the time window of the surface anomaly\n",
    "radar_data_sliced = radar_data.sel(time=slice(t_start, t_end))\n",
    "\n",
    "\n",
    "# building a mask to filter out Ze rainy columns and substitute them with nans\n",
    "# set to nan the values out of the thresholds for the selected variable\n",
    "mask = np.zeros((len(radar_data_sliced.time.values), len(radar_data_sliced.height.values)))\n",
    "for ind in range(len(radar_data_sliced.time.values)):\n",
    "    if (flag_data[\"flag_rain_ground\"].values[ind] == 1) | (flag_data[\"flag_rain\"].values[ind] == 1):\n",
    "        mask[ind,:] = np.repeat(1, len(radar_data_sliced.height.values))\n",
    "\n",
    "# filtering rainy values using the mask\n",
    "radar_data_sliced[\"nans\"] = xr.full_like(radar_data_sliced.radar_reflectivity, fill_value=np.nan)\n",
    "radar_data_sliced['radar_reflectivity'] = xr.where(mask == 0, radar_data_sliced['radar_reflectivity'], radar_data_sliced[\"nans\"])\n"
   ]
  },
  {
   "cell_type": "code",
   "execution_count": 25,
   "id": "ae52303e",
   "metadata": {},
   "outputs": [],
   "source": [
    "\n",
    "# calculating cloud fraction\n",
    "from datetime import timedelta\n",
    "\n",
    "# building SST binned array\n",
    "SST_min = np.nanmin(sst_tsg)\n",
    "SST_max = np.nanmax(sst_tsg)\n",
    "SST_binned_arr_cf = np.arange(SST_min, SST_max, step=0.05)\n",
    "\n",
    "# calculate label marks for bins\n",
    "sst_bin_label_cf = []\n",
    "for ind in range(len(SST_binned_arr_cf)-1):\n",
    "    sst_bin_label_cf.append(round((SST_binned_arr_cf[ind]+SST_binned_arr_cf[ind+1])/2,2))\n",
    "    \n",
    "\n",
    "ze_matrix = radar_data_sliced.radar_reflectivity.values\n",
    "time_radar = pd.to_datetime(radar_data_sliced.time.values)\n",
    "time_cloud_fraction = np.arange(time_radar[0], time_radar[-1], timedelta(minutes=15))\n",
    "dim_time_out = len(time_cloud_fraction)\n",
    "dim_height = np.shape(ze_matrix)[1]\n",
    "cloud_fraction = np.zeros((dim_time_out, dim_height))\n",
    "sst_cf = np.zeros((dim_time_out))\n",
    "\n",
    "for itime in range(dim_time_out-1):\n",
    "    data = radar_data_sliced.sel(time=slice(time_cloud_fraction[itime], time_cloud_fraction[itime+1]))\n",
    "    for iheight in range(dim_height):\n",
    "        cloud_fraction[itime, iheight] = np.count_nonzero(~np.isnan(data.radar_reflectivity.values[:,iheight]))/np.shape(data.radar_reflectivity.values[:,iheight])[0]\n",
    "\n",
    "    # calculating corresponding mean SST value associated to the 15 min cloud fraction profile. \n",
    "    sst_slice = SST_DS.sel(time=slice(time_cloud_fraction[itime], time_cloud_fraction[itime+1]))\n",
    "    sst_cf[itime] = sst_slice.SST.mean(dim='time', skipna=True)\n",
    "    \n",
    "dims = ['time', 'height']\n",
    "coords = {'time':time_cloud_fraction, 'height':radar_data_sliced.height.values}\n",
    "cf = xr.DataArray(dims=dims, coords=coords, data=cloud_fraction,\n",
    "                 attrs={'long_name':'cloud fraction',\n",
    "                        'units':''})\n",
    "sst = xr.DataArray(dims=['time'], coords={'time':time_cloud_fraction}, data=sst_cf,\n",
    "                 attrs={'long_name':'cloud fraction',\n",
    "                        'units':''})\n",
    "variables={'cloud_fraction':cf,\n",
    "          'SST':sst}\n",
    "\n",
    "cf_DS =xr.Dataset(data_vars = variables,\n",
    "                       coords = coords)\n",
    "\n",
    "# calculating mean quantities f\n",
    "dataset_mean = []\n",
    "dataset_std = []\n",
    "\n",
    "# selecting all columns in the bin interval\n",
    "for ind_bin in range(len(SST_binned_arr_cf)-1):\n",
    "\n",
    "    # selecting slices of datasets columns with SST values in the selected bin\n",
    "    DS_sliced = cf_DS.where((cf_DS.SST > SST_binned_arr_cf[ind_bin]) & (cf_DS.SST < SST_binned_arr_cf[ind_bin+1]), drop=True)\n",
    "\n",
    "    # add variable of the number of elements of the slice\n",
    "    n_el = len(DS_sliced.SST.values)\n",
    "    DS_sliced['n_elements'] = n_el\n",
    "\n",
    "    # calculate mean profile averaging all selected time stamps together\n",
    "    dataset_mean.append(DS_sliced.mean(dim='time', skipna=True))\n",
    "    dataset_std.append(DS_sliced.std(dim='time', skipna=True))\n",
    "\n",
    "# concatenating datasets corresponding to SST bins on a new bin dimension\n",
    "cloud_fraction_concat = xr.concat([dataset_mean[i] for i in np.arange(len(dataset_mean))], dim='SST_binned')\n",
    "cloud_fraction_std_concat = xr.concat([dataset_std[i] for i in np.arange(len(dataset_std))], dim='SST_binned')\n",
    "\n",
    "\n",
    "cloud_fraction_concat.to_netcdf('/Volumes/Extreme SSD/work/006_projects/001_Prec_Trade_Cycle/post_processed_clau/cloud_fraction_Wband_binned_sst.nc')\n",
    "\n"
   ]
  }
 ],
 "metadata": {
  "kernelspec": {
   "display_name": "Python 3",
   "language": "python",
   "name": "python3"
  },
  "language_info": {
   "codemirror_mode": {
    "name": "ipython",
    "version": 3
   },
   "file_extension": ".py",
   "mimetype": "text/x-python",
   "name": "python",
   "nbconvert_exporter": "python",
   "pygments_lexer": "ipython3",
   "version": "3.8.8"
  }
 },
 "nbformat": 4,
 "nbformat_minor": 5
}
