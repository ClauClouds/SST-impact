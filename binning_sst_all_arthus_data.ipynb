{
 "cells": [
  {
   "cell_type": "markdown",
   "id": "ca6712f9",
   "metadata": {},
   "source": [
    "## Notebook to apply sst binning to data from raman lidar\n",
    "#### Author: Claudia Acquistapace\n",
    "#### Date: 08/12/2021\n",
    "#### Goal: reading data without diurnal cycle, filter out rainy time stamps and calculate mean profiles for each sst bin. The script then saves the variables binned on sst in a ncdf file. "
   ]
  },
  {
   "cell_type": "code",
   "execution_count": 3,
   "id": "6c209615",
   "metadata": {},
   "outputs": [],
   "source": [
    "# importing necessary libraries\n",
    "import matplotlib.pyplot as plt\n",
    "from matplotlib import rcParams\n",
    "import matplotlib\n",
    "import numpy as np\n",
    "import xarray as xr\n",
    "from datetime import datetime\n",
    "import matplotlib.dates as mdates\n",
    "import glob\n",
    "#from myFunctions import lcl\n",
    "#from myFunctions import f_closest\n",
    "from warnings import warn\n",
    "import numpy as np\n",
    "import pandas as pd\n",
    "import datetime as dt\n",
    "import matplotlib.pyplot as plt\n",
    "from scipy import interpolate\n",
    "import custom_color_palette as ccp\n",
    "from matplotlib import rcParams\n",
    "import matplotlib.ticker as ticker\n",
    "\n",
    "\n",
    "def f_interpolate_SST_and_merge(SST_DS, dataset_obs):\n",
    "    '''function to interpolate SST values on the time resolution of the observations given as input\n",
    "    input: \n",
    "    SST_DS: xarray dataset containing sst values\n",
    "    dataset_obs: xarray dataset containing the observations to merge with sst data\n",
    "    output: \n",
    "    data_merged: data returned \n",
    "    '''\n",
    "    \n",
    "    # interpolating sst data at 1 min resolution to the 10 s res of the wind lidar\n",
    "    sst_data_interp = SST_DS.interp(time=dataset_obs['time'].values)\n",
    "\n",
    "    # merging the interpolated dataset and the wind lidar dataset\n",
    "    data_merged = xr.merge([dataset_obs, sst_data_interp])\n",
    "    return(data_merged)\n",
    "\n",
    "\n",
    "def f_calculate_binned_data(data_input, SST_binned_arr):\n",
    "    \n",
    "    ''' function to calculate mean values of all variables for each SST bin, for all instruments\n",
    "    author: Claudia Acquistapace\n",
    "    date: 20 Sept 2021\n",
    "    input: - data_input: input xarray dataset containing the variables as a function of time, height, to be averaged\n",
    "            - SST_binned_arr: numpy array of sst binned values for calculating the mean \n",
    "    output: dataset_concat: xarray dataset of concatenated values with mean profiles corresponding to the sst bins. A variable n_el counts the number of profiles averaged together\n",
    "    '''\n",
    "    # calculating mean quantities f\n",
    "    dataset_mean = []\n",
    "\n",
    "    data_input = data_input.load()\n",
    "\n",
    "    # selecting all columns in the bin interval\n",
    "    for ind_bin in range(len(SST_binned_arr)-1):\n",
    "\n",
    "        # selecting slices of datasets columns with SST values in the selected bin\n",
    "        DS_sliced = data_merged.where((data_input.SST > SST_binned_arr[ind_bin]) & (data_input.SST < SST_binned_arr[ind_bin+1]), drop=True)\n",
    "\n",
    "        # add variable of the number of elements of the slice\n",
    "        n_el = len(DS_sliced.SST.values)\n",
    "        DS_sliced['n_elements'] = n_el\n",
    "\n",
    "        # calculate mean profile averaging all selected time stamps together\n",
    "        dataset_mean.append(DS_sliced.mean(dim='time', skipna=True))\n",
    "\n",
    "\n",
    "    # concatenating datasets corresponding to SST bins on a new bin dimension\n",
    "    dataset_concat = xr.concat([dataset_mean[i] for i in np.arange(len(dataset_mean))], dim='SST_binned')\n",
    "    return(dataset_concat)\n",
    "\n",
    "\n",
    "\n",
    "\n",
    "dict_plot_settings = {\n",
    "    'labelsizeaxes':14,\n",
    "    'fontSizeTitle':16,\n",
    "    'fontSizeX'    :16,\n",
    "    'fontSizeY'    :16,\n",
    "    'cbarAspect'   :10,\n",
    "    'fontSizeCbar' :16,\n",
    "    'rcparams_font':['Tahoma'],\n",
    "    'savefig_dpi'  :100,\n",
    "    'font_size'    :22, \n",
    "    'grid'         :True}\n",
    "\n",
    "\n",
    "\n",
    "\n",
    "data_path = '/Volumes/Extreme SSD/work/006_projects/001_Prec_Trade_Cycle/post_processed_data/diurnal_cycle_removed/'\n",
    "tsg_file = \"/Volumes/Extreme SSD/work/006_projects/001_Prec_Trade_Cycle/tsg_sst_data/tsg/nc/msm_089_1_tsg.nc\"\n",
    "path_out_plots = '/Volumes/Extreme SSD/work/006_projects/001_Prec_Trade_Cycle/SST_impact_work/plots_paper/'\n"
   ]
  },
  {
   "cell_type": "code",
   "execution_count": 4,
   "id": "9199f8e4",
   "metadata": {},
   "outputs": [],
   "source": [
    "# reading tsg file ( data with 1 min resolution)\n",
    "tsg_data = xr.open_dataset(tsg_file)"
   ]
  },
  {
   "cell_type": "code",
   "execution_count": 5,
   "id": "1ad1ccb3",
   "metadata": {},
   "outputs": [
    {
     "data": {
      "text/plain": [
       "array(['2020-01-17T00:00:55.000003328', '2020-01-17T00:01:54.999999744',\n",
       "       '2020-01-17T00:02:54.999996160'], dtype='datetime64[ns]')"
      ]
     },
     "execution_count": 5,
     "metadata": {},
     "output_type": "execute_result"
    }
   ],
   "source": [
    "tsg_data.TIME.values[0:3]"
   ]
  },
  {
   "cell_type": "markdown",
   "id": "c7905856",
   "metadata": {},
   "source": [
    "reading data from tsg and create SST dataset"
   ]
  },
  {
   "cell_type": "code",
   "execution_count": 6,
   "id": "7ba4f4b9",
   "metadata": {},
   "outputs": [],
   "source": [
    "# reading data containing flags to filter out rainy columns\n",
    "flag_file_list = np.sort(glob.glob('/Volumes/Extreme SSD/work/006_projects/001_Prec_Trade_Cycle/post_processed_data/*_flags_cloud_properties.nc'))\n",
    "flag_file_list = flag_file_list[13:15]\n",
    "\n",
    "flag_data = xr.open_mfdataset(flag_file_list)"
   ]
  },
  {
   "cell_type": "code",
   "execution_count": 7,
   "id": "944a981b",
   "metadata": {},
   "outputs": [],
   "source": [
    "# reading tsg file ( data with 1 min resolution)\n",
    "tsg_data = xr.open_dataset(tsg_file)\n",
    "\n",
    "# identifying time stamps of sst corresponding to time stamps of radiosondes\n",
    "t_start = datetime(2020, 2, 2, 0, 0, 0)\n",
    "t_end = datetime(2020, 2, 3, 23, 59, 59)\n",
    "\n",
    "# slicing tsg datase t for the selected time interval and extracting sst\n",
    "sliced_tsg_ds = tsg_data.sel(TIME=slice(t_start, t_end))\n",
    "tsg_sst = sliced_tsg_ds['TEMP'].values\n",
    "tsg_time_sst = sliced_tsg_ds['TIME'].values\n",
    "tsg_flag = sliced_tsg_ds['TEMP_QC'].values\n",
    "\n",
    "# averaging together the sst of the different sst sensors for tsg\n",
    "temp0 = sliced_tsg_ds.TEMP[:,0].values\n",
    "temp1 = sliced_tsg_ds.TEMP[:,1].values\n",
    "sst_tsg = temp0\n",
    "sst_tsg[np.isnan(temp0)] = temp1[np.isnan(temp0)]\n",
    "\n",
    "# producing output dataset of sst_tsg for the selected time window\n",
    "# creating dataset with coordinates sst and height\n",
    "dim_sst           = ['time']\n",
    "coords         = {\"time\":sliced_tsg_ds.TIME.values}\n",
    "SST              = xr.DataArray(dims=dim_sst, coords=coords, data=sst_tsg,\n",
    "                 attrs={'long_name':'sea surface temperature ',\n",
    "                        'units':'$^{\\circ}$C'})\n",
    "variables         = {'SST':SST}\n",
    "SST_DS      = xr.Dataset(data_vars = variables,\n",
    "                       coords = coords)\n"
   ]
  },
  {
   "cell_type": "markdown",
   "id": "9ea76247",
   "metadata": {},
   "source": [
    "definition of the functions for: \n",
    "- Interpolation of the SST on the time grid of each instrument\n",
    "- binning of the data over SST grid\n"
   ]
  },
  {
   "cell_type": "code",
   "execution_count": 8,
   "id": "c41ca096",
   "metadata": {},
   "outputs": [],
   "source": [
    "# building SST binned array\n",
    "SST_min = np.nanmin(sst_tsg)\n",
    "SST_max = np.nanmax(sst_tsg)\n",
    "SST_binned_arr = np.arange(SST_min, SST_max, step=0.025)\n",
    "\n",
    "\n",
    "# calculate label marks for bins\n",
    "sst_bin_label = []\n",
    "for ind in range(len(SST_binned_arr)-1):\n",
    "    sst_bin_label.append(round((SST_binned_arr[ind]+SST_binned_arr[ind+1])/2,2))\n",
    "    \n"
   ]
  },
  {
   "cell_type": "code",
   "execution_count": 10,
   "id": "5999af0e",
   "metadata": {},
   "outputs": [
    {
     "name": "stdout",
     "output_type": "stream",
     "text": [
      "[[ 1.  1.  1.]\n",
      " [ 1.  1.  1.]\n",
      " [nan  1.  1.]\n",
      " [ 1.  1.  1.]]\n",
      "[3 4 4]\n"
     ]
    },
    {
     "data": {
      "text/plain": [
       "'/Volumes/Extreme SSD/work/006_projects/001_Prec_Trade_Cycle/post_processed_data/diurnal_cycle_removed/'"
      ]
     },
     "execution_count": 10,
     "metadata": {},
     "output_type": "execute_result"
    }
   ],
   "source": [
    "a = np.ones((4,3))\n",
    "a[2,0]= np.nan\n",
    "print(a)\n",
    "print(np.count_nonzero(~np.isnan(a), axis=0))\n",
    "\n",
    "data_path"
   ]
  },
  {
   "cell_type": "markdown",
   "id": "9b4652cb",
   "metadata": {},
   "source": [
    "Reading data from Arthus for T, wvmr, SHF, LHF."
   ]
  },
  {
   "cell_type": "code",
   "execution_count": 14,
   "id": "654bed5b",
   "metadata": {},
   "outputs": [
    {
     "name": "stdout",
     "output_type": "stream",
     "text": [
      "processing variable:  Temperature\n",
      "/Volumes/Extreme SSD/work/006_projects/001_Prec_Trade_Cycle/post_processed_data/diurnal_cycle_removed/T*.nc\n",
      "['/Volumes/Extreme SSD/work/006_projects/001_Prec_Trade_Cycle/post_processed_data/diurnal_cycle_removed/T_20200202.nc'\n",
      " '/Volumes/Extreme SSD/work/006_projects/001_Prec_Trade_Cycle/post_processed_data/diurnal_cycle_removed/T_20200203.nc']\n",
      "files read\n",
      "flag interpolated\n",
      "mask calculated\n",
      "<xarray.Dataset>\n",
      "Dimensions:                   (height: 57, time: 16617)\n",
      "Coordinates:\n",
      "  * time                      (time) datetime64[ns] 2020-02-02T00:00:08 ... 2...\n",
      "  * height                    (height) float32 225.0 275.0 ... 2975.0 3025.0\n",
      "Data variables:\n",
      "    product_no_diurnal_cycle  (time, height) float64 dask.array<chunksize=(8438, 57), meta=np.ndarray>\n",
      "    product_no_noise          (time, height) float64 dask.array<chunksize=(8438, 57), meta=np.ndarray>\n",
      "    nans                      (time, height) float64 dask.array<chunksize=(8438, 57), meta=np.ndarray>\n",
      "    SST                       (time) float64 nan nan nan ... 26.98 26.98 26.98\n",
      "interpolation and merging done\n"
     ]
    },
    {
     "name": "stderr",
     "output_type": "stream",
     "text": [
      "/Users/claudia/opt/anaconda3/lib/python3.8/site-packages/dask/array/numpy_compat.py:39: RuntimeWarning: invalid value encountered in true_divide\n",
      "  x = np.divide(x1, x2, out)\n"
     ]
    },
    {
     "name": "stdout",
     "output_type": "stream",
     "text": [
      "processing variable:  Water vapor mixing ratio\n",
      "/Volumes/Extreme SSD/work/006_projects/001_Prec_Trade_Cycle/post_processed_data/diurnal_cycle_removed/MR*.nc\n",
      "['/Volumes/Extreme SSD/work/006_projects/001_Prec_Trade_Cycle/post_processed_data/diurnal_cycle_removed/MR_20200202.nc'\n",
      " '/Volumes/Extreme SSD/work/006_projects/001_Prec_Trade_Cycle/post_processed_data/diurnal_cycle_removed/MR_20200203.nc']\n",
      "files read\n",
      "flag interpolated\n",
      "mask calculated\n",
      "<xarray.Dataset>\n",
      "Dimensions:                   (height: 57, time: 16617)\n",
      "Coordinates:\n",
      "  * time                      (time) datetime64[ns] 2020-02-02T00:00:08 ... 2...\n",
      "  * height                    (height) float32 225.0 275.0 ... 2975.0 3025.0\n",
      "Data variables:\n",
      "    product_no_diurnal_cycle  (time, height) float64 dask.array<chunksize=(8438, 57), meta=np.ndarray>\n",
      "    product_no_noise          (time, height) float64 dask.array<chunksize=(8438, 57), meta=np.ndarray>\n",
      "    nans                      (time, height) float64 dask.array<chunksize=(8438, 57), meta=np.ndarray>\n",
      "    SST                       (time) float64 nan nan nan ... 26.98 26.98 26.98\n",
      "interpolation and merging done\n"
     ]
    },
    {
     "name": "stderr",
     "output_type": "stream",
     "text": [
      "/Users/claudia/opt/anaconda3/lib/python3.8/site-packages/dask/array/numpy_compat.py:39: RuntimeWarning: invalid value encountered in true_divide\n",
      "  x = np.divide(x1, x2, out)\n"
     ]
    },
    {
     "name": "stdout",
     "output_type": "stream",
     "text": [
      "processing variable:  Vertical velocity\n",
      "/Volumes/Extreme SSD/work/006_projects/001_Prec_Trade_Cycle/post_processed_data/diurnal_cycle_removed/VW*.nc\n",
      "['/Volumes/Extreme SSD/work/006_projects/001_Prec_Trade_Cycle/post_processed_data/diurnal_cycle_removed/VW_20200202.nc'\n",
      " '/Volumes/Extreme SSD/work/006_projects/001_Prec_Trade_Cycle/post_processed_data/diurnal_cycle_removed/VW_20200203.nc']\n",
      "files read\n",
      "flag interpolated\n",
      "mask calculated\n",
      "<xarray.Dataset>\n",
      "Dimensions:                   (height: 57, time: 16617)\n",
      "Coordinates:\n",
      "  * time                      (time) datetime64[ns] 2020-02-02T00:00:08 ... 2...\n",
      "  * height                    (height) float32 225.0 275.0 ... 2975.0 3025.0\n",
      "Data variables:\n",
      "    product_no_diurnal_cycle  (time, height) float64 dask.array<chunksize=(8438, 57), meta=np.ndarray>\n",
      "    product_no_noise          (time, height) float64 dask.array<chunksize=(8438, 57), meta=np.ndarray>\n",
      "    nans                      (time, height) float64 dask.array<chunksize=(8438, 57), meta=np.ndarray>\n",
      "    SST                       (time) float64 nan nan nan ... 26.98 26.98 26.98\n",
      "interpolation and merging done\n"
     ]
    },
    {
     "name": "stderr",
     "output_type": "stream",
     "text": [
      "/Users/claudia/opt/anaconda3/lib/python3.8/site-packages/dask/array/numpy_compat.py:39: RuntimeWarning: invalid value encountered in true_divide\n",
      "  x = np.divide(x1, x2, out)\n"
     ]
    },
    {
     "name": "stdout",
     "output_type": "stream",
     "text": [
      "processing variable:  Latent heat flux\n",
      "/Volumes/Extreme SSD/work/006_projects/001_Prec_Trade_Cycle/post_processed_data/diurnal_cycle_removed/LHF*.nc\n",
      "['/Volumes/Extreme SSD/work/006_projects/001_Prec_Trade_Cycle/post_processed_data/diurnal_cycle_removed/LHF_20200202.nc'\n",
      " '/Volumes/Extreme SSD/work/006_projects/001_Prec_Trade_Cycle/post_processed_data/diurnal_cycle_removed/LHF_20200203.nc']\n",
      "files read\n",
      "flag interpolated\n",
      "mask calculated\n",
      "<xarray.Dataset>\n",
      "Dimensions:                   (height: 57, time: 16618)\n",
      "Coordinates:\n",
      "  * time                      (time) datetime64[ns] 2020-02-02T00:00:08 ... 2...\n",
      "  * height                    (height) float32 225.0 275.0 ... 2975.0 3025.0\n",
      "Data variables:\n",
      "    product_no_diurnal_cycle  (time, height) float64 dask.array<chunksize=(8438, 57), meta=np.ndarray>\n",
      "    product_no_noise          (time, height) float64 dask.array<chunksize=(8438, 57), meta=np.ndarray>\n",
      "    nans                      (time, height) float64 dask.array<chunksize=(8438, 57), meta=np.ndarray>\n",
      "    SST                       (time) float64 nan nan nan nan ... 26.98 26.98 nan\n",
      "interpolation and merging done\n"
     ]
    },
    {
     "name": "stderr",
     "output_type": "stream",
     "text": [
      "/Users/claudia/opt/anaconda3/lib/python3.8/site-packages/dask/array/numpy_compat.py:39: RuntimeWarning: invalid value encountered in true_divide\n",
      "  x = np.divide(x1, x2, out)\n"
     ]
    },
    {
     "name": "stdout",
     "output_type": "stream",
     "text": [
      "processing variable:  Sensible heat flux\n",
      "/Volumes/Extreme SSD/work/006_projects/001_Prec_Trade_Cycle/post_processed_data/diurnal_cycle_removed/SHF*.nc\n",
      "['/Volumes/Extreme SSD/work/006_projects/001_Prec_Trade_Cycle/post_processed_data/diurnal_cycle_removed/SHF_20200202.nc'\n",
      " '/Volumes/Extreme SSD/work/006_projects/001_Prec_Trade_Cycle/post_processed_data/diurnal_cycle_removed/SHF_20200203.nc']\n",
      "files read\n",
      "flag interpolated\n",
      "mask calculated\n",
      "<xarray.Dataset>\n",
      "Dimensions:                   (height: 57, time: 16618)\n",
      "Coordinates:\n",
      "  * time                      (time) datetime64[ns] 2020-02-02T00:00:08 ... 2...\n",
      "  * height                    (height) float32 225.0 275.0 ... 2975.0 3025.0\n",
      "Data variables:\n",
      "    product_no_diurnal_cycle  (time, height) float64 dask.array<chunksize=(8438, 57), meta=np.ndarray>\n",
      "    product_no_noise          (time, height) float64 dask.array<chunksize=(8438, 57), meta=np.ndarray>\n",
      "    nans                      (time, height) float64 dask.array<chunksize=(8438, 57), meta=np.ndarray>\n",
      "    SST                       (time) float64 nan nan nan nan ... 26.98 26.98 nan\n",
      "interpolation and merging done\n"
     ]
    },
    {
     "name": "stderr",
     "output_type": "stream",
     "text": [
      "/Users/claudia/opt/anaconda3/lib/python3.8/site-packages/dask/array/numpy_compat.py:39: RuntimeWarning: invalid value encountered in true_divide\n",
      "  x = np.divide(x1, x2, out)\n"
     ]
    },
    {
     "name": "stdout",
     "output_type": "stream",
     "text": [
      "processing variable:  potential temperature\n",
      "/Volumes/Extreme SSD/work/006_projects/001_Prec_Trade_Cycle/post_processed_data/diurnal_cycle_removed/theta*.nc\n",
      "['/Volumes/Extreme SSD/work/006_projects/001_Prec_Trade_Cycle/post_processed_data/diurnal_cycle_removed/theta_20200202.nc'\n",
      " '/Volumes/Extreme SSD/work/006_projects/001_Prec_Trade_Cycle/post_processed_data/diurnal_cycle_removed/theta_20200203.nc']\n",
      "files read\n",
      "flag interpolated\n",
      "mask calculated\n",
      "<xarray.Dataset>\n",
      "Dimensions:                   (height: 57, time: 16617)\n",
      "Coordinates:\n",
      "  * time                      (time) datetime64[ns] 2020-02-02T00:00:08 ... 2...\n",
      "  * height                    (height) float64 225.0 275.0 ... 3.025e+03\n",
      "Data variables:\n",
      "    product_no_diurnal_cycle  (time, height) float64 dask.array<chunksize=(8438, 57), meta=np.ndarray>\n",
      "    product_no_noise          (time, height) float64 dask.array<chunksize=(8438, 57), meta=np.ndarray>\n",
      "    nans                      (time, height) float64 dask.array<chunksize=(8438, 57), meta=np.ndarray>\n",
      "    SST                       (time) float64 nan nan nan ... 26.98 26.98 26.98\n",
      "interpolation and merging done\n"
     ]
    },
    {
     "name": "stderr",
     "output_type": "stream",
     "text": [
      "/Users/claudia/opt/anaconda3/lib/python3.8/site-packages/dask/array/numpy_compat.py:39: RuntimeWarning: invalid value encountered in true_divide\n",
      "  x = np.divide(x1, x2, out)\n"
     ]
    },
    {
     "name": "stdout",
     "output_type": "stream",
     "text": [
      "processing variable:  equivalent potential temperature\n",
      "/Volumes/Extreme SSD/work/006_projects/001_Prec_Trade_Cycle/post_processed_data/diurnal_cycle_removed/theta_e*.nc\n",
      "['/Volumes/Extreme SSD/work/006_projects/001_Prec_Trade_Cycle/post_processed_data/diurnal_cycle_removed/theta_e_20200202.nc'\n",
      " '/Volumes/Extreme SSD/work/006_projects/001_Prec_Trade_Cycle/post_processed_data/diurnal_cycle_removed/theta_e_20200203.nc']\n",
      "files read\n",
      "flag interpolated\n",
      "mask calculated\n",
      "<xarray.Dataset>\n",
      "Dimensions:                   (height: 57, time: 16617)\n",
      "Coordinates:\n",
      "  * time                      (time) datetime64[ns] 2020-02-02T00:00:08 ... 2...\n",
      "  * height                    (height) float64 225.0 275.0 ... 3.025e+03\n",
      "Data variables:\n",
      "    product_no_diurnal_cycle  (time, height) float64 dask.array<chunksize=(8438, 57), meta=np.ndarray>\n",
      "    product_no_noise          (time, height) float64 dask.array<chunksize=(8438, 57), meta=np.ndarray>\n",
      "    nans                      (time, height) float64 dask.array<chunksize=(8438, 57), meta=np.ndarray>\n",
      "    SST                       (time) float64 nan nan nan ... 26.98 26.98 26.98\n",
      "interpolation and merging done\n"
     ]
    },
    {
     "name": "stderr",
     "output_type": "stream",
     "text": [
      "/Users/claudia/opt/anaconda3/lib/python3.8/site-packages/dask/array/numpy_compat.py:39: RuntimeWarning: invalid value encountered in true_divide\n",
      "  x = np.divide(x1, x2, out)\n"
     ]
    }
   ],
   "source": [
    "# reading all arthus data \n",
    "\n",
    "# variable list\n",
    "var_list =['T','WVMR','VW','LHF','SHF']\n",
    "\n",
    "T_dict = {\n",
    "     'var_name'  : 'T',\n",
    "     'var_string': 'Temperature',\n",
    "     'var_units' : ' $^{\\circ}$K',\n",
    "     'var_min'   : 290.,\n",
    "     'var_max'   : 310.,\n",
    "     'thr_min'   : 280.,\n",
    "     'thr_max'   : 330.,\n",
    "     'avg_time'  : '15',\n",
    "     'cmap'      : 'jet',\n",
    "     'title'     : 'Air temperature: 28/01-04/02'}\n",
    "\n",
    "WVMR_dict = {\n",
    "     'var_name'  : 'MR',\n",
    "     'var_string': 'Water vapor mixing ratio',\n",
    "     'var_units' : ' g kg$^{-1}$',\n",
    "     'var_min'   : 0.,\n",
    "     'var_max'   : 30.,\n",
    "     'thr_min'   : 0.,\n",
    "     'thr_max'   : 30.,\n",
    "     'avg_time'  : '15',\n",
    "     'cmap'      : 'jet',\n",
    "     'title'     : 'Water vapor mixing ratio: 28/01-04/02'}\n",
    "\n",
    "VW_dict = {\n",
    "     'var_name'  : 'VW',\n",
    "     'var_string': 'Vertical velocity',\n",
    "     'var_units' : ' ms$^{-1}$',\n",
    "     'var_min'   : -2.,\n",
    "     'var_max'   : 2.,\n",
    "     'thr_min'   : -5.,\n",
    "     'thr_max'   : 5.,\n",
    "     'avg_time'  : '15',\n",
    "     'cmap'      : 'seismic',\n",
    "     'title'     : 'Vertical velocity: 28/01-04/02'}\n",
    "\n",
    "LHF_dict = {\n",
    "     'var_name'  : 'LHF',    \n",
    "     'var_string': 'Latent heat flux',\n",
    "     'var_units' : ' W m$^{-2}$',\n",
    "     'var_min'   : -250.,\n",
    "     'var_max'   : 250.,\n",
    "     'thr_min'   : -250.,\n",
    "     'thr_max'   : 250.,\n",
    "     'avg_time'  : '30',\n",
    "     'cmap'      : 'jet',\n",
    "     'title'     : 'Latent heat flux: 28/01-04/02'}\n",
    "\n",
    "SHF_dict = {\n",
    "     'var_name'  : 'SHF',\n",
    "     'var_string': 'Sensible heat flux',\n",
    "     'var_units' : ' W m$^{-2}$',\n",
    "     'var_min'   : -100.,\n",
    "     'var_max'   : 100.,\n",
    "     'thr_min'   : -100.,\n",
    "     'thr_max'   : 100.,\n",
    "     'avg_time'  : '30',\n",
    "     'cmap'      : 'jet',\n",
    "     'title'     : 'Sensible heat flux: 28/01-04/02'}\n",
    "\n",
    "theta_dict = {\n",
    "     'var_name'  : 'theta',\n",
    "     'var_string': 'potential temperature',\n",
    "     'var_units' : '$K$',\n",
    "     'var_min'   : 290.,\n",
    "     'var_max'   : 310.,\n",
    "     'thr_min'   : 290.,\n",
    "     'thr_max'   : 310.,\n",
    "     'avg_time'  : '15',\n",
    "     'cmap'      : 'jet',\n",
    "     'title'     : 'Potential temperature: 28/01-04/02'}\n",
    "\n",
    "theta_e_dict = {\n",
    "     'var_name'  : 'theta_e',\n",
    "     'var_string': 'equivalent potential temperature',\n",
    "     'var_units' : '$K$',\n",
    "     'var_min'   : 290.,\n",
    "     'var_max'   : 360.,\n",
    "     'thr_min'   : 290.,\n",
    "     'thr_max'   : 360.,\n",
    "     'avg_time'  : '15',\n",
    "     'cmap'      : 'jet',\n",
    "     'title'     : 'Equivalent potential temperature: 28/01-04/02'}\n",
    "dict_list = [T_dict, WVMR_dict, VW_dict, LHF_dict, SHF_dict, theta_dict, theta_e_dict]\n",
    "#dict_list = [theta_dict, theta_e_dict]\n",
    "\n",
    "\n",
    "vars_arthus = []\n",
    "\n",
    "for i_var, dict_var in enumerate(dict_list):\n",
    "\n",
    "    print('processing variable: ', dict_var['var_string'])\n",
    "    print(data_path+dict_var['var_name']+'*.nc')\n",
    "    \n",
    "    # reading file list of the files for the selected variable\n",
    "    arthus_file_list = np.sort(glob.glob(data_path+dict_var['var_name']+'_2020*.nc'))\n",
    "    print(arthus_file_list)\n",
    "    \n",
    "    # read the two datasets together\n",
    "    arthus_dataset = xr.open_mfdataset(arthus_file_list)\n",
    "    \n",
    "    # renaming variable time and height and dimension time and height (step necessary for next operations)\n",
    "    #arthus_dataset = arthus_dataset.rename_dims({'Time':'time'})\n",
    "    #arthus_dataset = arthus_dataset.rename_dims({'Height':'height'})\n",
    "    #arthus_dataset = arthus_dataset.rename_vars({'Time':'time'})\n",
    "    #arthus_dataset = arthus_dataset.rename_vars({'Height':'height'})\n",
    "\n",
    "    print('files read')\n",
    "\n",
    "    # interpolate flag on time resolution of arthus data, picking the closest time stamp to lidar time stamps\n",
    "    flag_data_interp = flag_data.interp(time=arthus_dataset['time'].values, method='nearest')\n",
    "\n",
    "    print('flag interpolated')\n",
    "    \n",
    "    # building a mask to filter out Ze rainy columns and substitute them with nans\n",
    "    # set to nan the values out of the thresholds for the selected variable\n",
    "    mask = np.zeros((len(arthus_dataset.time.values), len(arthus_dataset.height.values)))\n",
    "    for ind in range(len(flag_data_interp.time.values)):\n",
    "        if (flag_data_interp[\"flag_rain_ground\"].values[ind] == 1) | (flag_data_interp[\"flag_rain\"].values[ind] == 1):\n",
    "            mask[ind,:] = np.repeat(1, len(arthus_dataset.height.values))\n",
    "\n",
    "    print('mask calculated')\n",
    "    \n",
    "    arthus_dataset[\"nans\"] = xr.full_like(arthus_dataset.product_no_diurnal_cycle, fill_value=np.nan)\n",
    "    arthus_dataset['product_no_diurnal_cycle'] = xr.where(mask == 0, arthus_dataset['product_no_diurnal_cycle'], arthus_dataset[\"nans\"])\n",
    "\n",
    "    \n",
    "    # interpolating SST data on the arthus data \n",
    "    arthus_all_SST = f_interpolate_SST_and_merge(SST_DS, arthus_dataset)\n",
    "    print(arthus_all_SST)\n",
    "    \n",
    "    \n",
    "    \n",
    "    print('interpolation and merging done')\n",
    "\n",
    "    # calculating mean quantities for each bin\n",
    "    dataset_mean = []\n",
    "    dataset_std = []\n",
    "    dataset_n = []\n",
    "    \n",
    "    # selecting all columns in the bin interval\n",
    "    for ind_bin in range(len(SST_binned_arr)-1):\n",
    "\n",
    "        # selecting slices of datasets columns with SST values in the selected bin\n",
    "        DS_sliced = arthus_all_SST.where((arthus_all_SST.SST > SST_binned_arr[ind_bin]) & (arthus_all_SST.SST < SST_binned_arr[ind_bin+1]), drop=True)\n",
    "\n",
    "        # add variable of the number of elements of the slice\n",
    "        n_el = len(DS_sliced.SST.values)\n",
    "        \n",
    "        # add variable of absolute value of the var\n",
    "        dims_ds = ['time','height']\n",
    "        coords_ds = {'time':DS_sliced['time'].values, 'height':DS_sliced['height'].values}\n",
    "        abs_val = np.abs(DS_sliced['product_no_diurnal_cycle'].values)\n",
    "        DS_sliced['abs_val'] =  xr.DataArray(dims=dims_ds, coords=coords_ds, data=abs_val)\n",
    "\n",
    "    \n",
    "        # add variable of count of values for each sliced dataset where we calculate mean/std \n",
    "        dims_ds = ['time','height']\n",
    "        coords_ds = {'time':DS_sliced['time'].values, 'height':DS_sliced['height'].values}\n",
    "        counts = np.count_nonzero(~np.isnan(DS_sliced['product_no_diurnal_cycle'].values), axis=0)\n",
    "        #print(np.shape(counts))\n",
    "        #print(counts)\n",
    "        DS_sliced['n_elements'] =  xr.DataArray(dims=['height'], \\\n",
    "                                                coords={'height':DS_sliced['height'].values}, \\\n",
    "                                                data=counts, \n",
    "                                               attrs={'long_name':'number of values in each bin SST/height'})        \n",
    "        \n",
    "        \n",
    "        # calculate mean profile averaging all selected time stamps together\n",
    "        dataset_mean.append(DS_sliced.mean(dim='time', skipna=True))\n",
    "        dataset_std.append(DS_sliced.std(dim='time', skipna=True))\n",
    "        dataset_n.append(DS_sliced['n_elements'])\n",
    "        \n",
    "        \n",
    "    # concatenating datasets corresponding to SST bins on a new bin dimension\n",
    "    arthus_SST_concat = xr.concat([dataset_mean[i] for i in np.arange(len(dataset_mean))], dim='SST_binned')\n",
    "    arthus_SST_std_concat = xr.concat([dataset_std[i] for i in np.arange(len(dataset_std))], dim='SST_binned')\n",
    "    arthus_SST_n_concat = xr.concat([dataset_n[i] for i in np.arange(len(dataset_n))], dim='SST_binned')\n",
    "    \n",
    "    \n",
    "    # saving variable of interest in a dictionary with its name: for vertical velocity (VW) we save the absolute value\n",
    "    # of vertical velocity for mean variable, and the std of the vertical velocity values.\n",
    "    if dict_var['var_name']!= 'VW':\n",
    "        dict_variable_nodc = {'var_name':dict_var['var_name'],\n",
    "                     'var':arthus_SST_concat['product_no_diurnal_cycle'].values, \n",
    "                     'std':arthus_SST_std_concat['product_no_diurnal_cycle'].values,\n",
    "                      'n':arthus_SST_n_concat.data}\n",
    "    else:\n",
    "        dict_variable_nodc = {'var_name':dict_var['var_name'],\n",
    "                     'var':arthus_SST_concat['abs_val'].values, \n",
    "                     'std':arthus_SST_std_concat['product_no_diurnal_cycle'].values,\n",
    "                      'n':arthus_SST_n_concat.data}       \n",
    "    \n",
    "    \n",
    "    # append the dictionary in a list of dictionaries containing all arthus variables\n",
    "    vars_arthus.append(dict_variable_nodc)\n"
   ]
  },
  {
   "cell_type": "code",
   "execution_count": 13,
   "id": "d846fc79",
   "metadata": {},
   "outputs": [
    {
     "data": {
      "text/plain": [
       "'/Volumes/Extreme SSD/work/006_projects/001_Prec_Trade_Cycle/post_processed_data/diurnal_cycle_removed/'"
      ]
     },
     "execution_count": 13,
     "metadata": {},
     "output_type": "execute_result"
    }
   ],
   "source": [
    "arthus_file_list\n",
    "data_path"
   ]
  },
  {
   "cell_type": "markdown",
   "id": "6dd930ec",
   "metadata": {},
   "source": [
    "Saving all produced data in a ncdf file"
   ]
  },
  {
   "cell_type": "code",
   "execution_count": 15,
   "id": "cdbf36e8",
   "metadata": {},
   "outputs": [],
   "source": [
    "# converting the list of dictionaries in a dictionary called variables to be saved in ncdf\n",
    "dims             = ['sst','height']\n",
    "coords           = {'sst':SST_binned_arr[0:-1], 'height':arthus_SST_concat['height'].values}\n",
    "variables = {}\n",
    "for i in range(len(dict_list)):\n",
    "    key = vars_arthus[i]['var_name']\n",
    "    value = xr.DataArray(dims=dims, coords=coords, data=vars_arthus[i]['var'],\n",
    "                             attrs={'long_name':vars_arthus[i]['var_name']+' without diurnal cycle',\n",
    "                                    'units':dict_var['var_units']})\n",
    "    value_std = xr.DataArray(dims=dims, coords=coords, data=vars_arthus[i]['std'],\n",
    "                             attrs={'long_name':'std of '+vars_arthus[i]['var_name']+' without diurnal cycle',\n",
    "                                    'units':dict_var['var_units']})\n",
    "    value_n = xr.DataArray(dims=dims, coords=coords, data=vars_arthus[i]['n'],\n",
    "                             attrs={'long_name':'number of '+vars_arthus[i]['var_name']+' values in the bin',\n",
    "                                    'units':'#'})\n",
    "    variables[key] = value\n",
    "    variables[key+'_std'] = value_std\n",
    "    variables[key+'_n'] = value_n\n",
    "\n",
    "\n",
    "global_attributes = {'CREATED_BY'       : 'Claudia Acquistapace',\n",
    "                        'CREATED_ON'       :  str(datetime.now()),\n",
    "                        'FILL_VALUE'       :  'NaN', \n",
    "                        'PI_NAME'          : 'Claudia Acquistapace',\n",
    "                        'PI_AFFILIATION'   : 'University of Cologne (UNI), Germany', \n",
    "                        'PI_ADDRESS'       : 'Institute for geophysics and meteorology, Pohligstrasse 3, 50969 Koeln', \n",
    "                        'PI_MAIL'          : 'cacquist@meteo.uni-koeln.de',\n",
    "                        'DATA_DESCRIPTION' : dict_var['var_string']+'with the diurnal cycle removed from the data',\n",
    "                        'DATA_DISCIPLINE'  : 'Atmospheric Physics - Remote Sensing Lidar Profiler',\n",
    "                        'DATA_GROUP'       : 'Experimental;Profile;Moving',\n",
    "                        'DATA_SOURCE'      : 'arthus data',\n",
    "                        'DATA_PROCESSING'  : 'https://github.com/ClauClouds/SST-impact/',\n",
    "                        'INSTRUMENT_MODEL' : 'arthus raman lidar system',\n",
    "                         'COMMENT'         : 'original data postprocessed by Diego Lange' }\n",
    "dataset_out    = xr.Dataset(data_vars = variables,\n",
    "                        coords = coords,\n",
    "                        attrs = global_attributes)\n",
    "dataset_out.to_netcdf('/Volumes/Extreme SSD/work/006_projects/001_Prec_Trade_Cycle/post_processed_data/binned_sst/arthus_binned_sst_4.nc')\n"
   ]
  },
  {
   "cell_type": "code",
   "execution_count": 16,
   "id": "4b978fd4",
   "metadata": {},
   "outputs": [
    {
     "data": {
      "text/plain": [
       "(250.0, 1000.0)"
      ]
     },
     "execution_count": 16,
     "metadata": {},
     "output_type": "execute_result"
    },
    {
     "data": {
      "image/png": "[encoded data removed]",
      "text/plain": [
       "<Figure size 432x288 with 2 Axes>"
      ]
     },
     "metadata": {
      "needs_background": "light"
     },
     "output_type": "display_data"
    }
   ],
   "source": [
    "dataset_out.theta.plot(x='sst', y='height', vmin=-5, vmax=5, cmap='seismic')\n",
    "plt.ylim(250., 1000)"
   ]
  },
  {
   "cell_type": "code",
   "execution_count": 17,
   "id": "df798d7f",
   "metadata": {},
   "outputs": [
    {
     "data": {
      "text/plain": [
       "(250.0, 1000.0)"
      ]
     },
     "execution_count": 17,
     "metadata": {},
     "output_type": "execute_result"
    },
    {
     "data": {
      "image/png": "[encoded data removed]",
      "text/plain": [
       "<Figure size 432x288 with 2 Axes>"
      ]
     },
     "metadata": {
      "needs_background": "light"
     },
     "output_type": "display_data"
    }
   ],
   "source": [
    "dataset_out.theta_e.plot(x='sst', y='height', vmin=-5, vmax=5, cmap='seismic')\n",
    "plt.ylim(250., 1000)"
   ]
  },
  {
   "cell_type": "code",
   "execution_count": 22,
   "id": "932cde66",
   "metadata": {},
   "outputs": [
    {
     "data": {
      "text/plain": [
       "{'var_name': 'theta_e',\n",
       " 'var': array([[ -0.64798992,  -0.84050552,  -0.45893688, ...,          nan,\n",
       "                  nan,          nan],\n",
       "        [ -0.99090581,  -1.43693559,  -0.82064648, ...,          nan,\n",
       "                  nan,          nan],\n",
       "        [ -2.16132819,  -2.38588664,  -1.51049098, ...,          nan,\n",
       "                  nan,          nan],\n",
       "        ...,\n",
       "        [ -3.96799127,  -3.65534377,  -3.50059602, ..., -10.93554471,\n",
       "                  nan,          nan],\n",
       "        [ -3.80446444,  -3.75140273,  -3.47996795, ..., -15.85101273,\n",
       "                  nan,          nan],\n",
       "        [ -3.92025649,  -4.1985085 ,  -3.490507  , ..., -17.41292403,\n",
       "                  nan,          nan]]),\n",
       " 'std': array([[1.50183511, 1.53806827, 1.58305103, ...,        nan,        nan,\n",
       "                nan],\n",
       "        [1.2716837 , 1.10719572, 0.8986584 , ...,        nan,        nan,\n",
       "                nan],\n",
       "        [1.19288762, 1.20087875, 1.15135231, ...,        nan,        nan,\n",
       "                nan],\n",
       "        ...,\n",
       "        [1.21656454, 1.61984728, 1.97224109, ..., 2.43448695,        nan,\n",
       "                nan],\n",
       "        [0.98438645, 1.22672682, 1.46241609, ..., 4.78447121,        nan,\n",
       "                nan],\n",
       "        [1.52867129, 1.56603272, 1.73548254, ..., 9.27067339,        nan,\n",
       "                nan]]),\n",
       " 'n': array([[188, 188, 188, ...,   0,   0,   0],\n",
       "        [105, 105, 105, ...,   0,   0,   0],\n",
       "        [155, 155, 155, ...,   0,   0,   0],\n",
       "        ...,\n",
       "        [443, 442, 442, ...,   6,   0,   0],\n",
       "        [281, 281, 281, ...,   2,   0,   0],\n",
       "        [165, 165, 165, ...,   2,   0,   0]])}"
      ]
     },
     "execution_count": 22,
     "metadata": {},
     "output_type": "execute_result"
    }
   ],
   "source": [
    "vars_arthus[1]"
   ]
  },
  {
   "cell_type": "code",
   "execution_count": 7,
   "id": "604c557f",
   "metadata": {},
   "outputs": [
    {
     "ename": "NameError",
     "evalue": "name 'sst_bin_label_cf' is not defined",
     "output_type": "error",
     "traceback": [
      "\u001b[0;31m---------------------------------------------------------------------------\u001b[0m",
      "\u001b[0;31mNameError\u001b[0m                                 Traceback (most recent call last)",
      "\u001b[0;32m/var/folders/vq/pfv4n2796kvc782gmx0q4bhc0000gn/T/ipykernel_9679/2902235000.py\u001b[0m in \u001b[0;36m<module>\u001b[0;34m\u001b[0m\n\u001b[1;32m     62\u001b[0m \u001b[0;34m\u001b[0m\u001b[0m\n\u001b[1;32m     63\u001b[0m \u001b[0;34m\u001b[0m\u001b[0m\n\u001b[0;32m---> 64\u001b[0;31m \u001b[0mmesh\u001b[0m \u001b[0;34m=\u001b[0m \u001b[0maxs\u001b[0m\u001b[0;34m[\u001b[0m\u001b[0;36m2\u001b[0m\u001b[0;34m,\u001b[0m\u001b[0;36m1\u001b[0m\u001b[0;34m]\u001b[0m\u001b[0;34m.\u001b[0m\u001b[0mpcolormesh\u001b[0m\u001b[0;34m(\u001b[0m\u001b[0msst_bin_label_cf\u001b[0m\u001b[0;34m,\u001b[0m \u001b[0mcloud_fraction_concat\u001b[0m\u001b[0;34m.\u001b[0m\u001b[0mheight\u001b[0m\u001b[0;34m.\u001b[0m\u001b[0mvalues\u001b[0m\u001b[0;34m,\u001b[0m \u001b[0mcloud_fraction_concat\u001b[0m\u001b[0;34m.\u001b[0m\u001b[0mcloud_fraction\u001b[0m\u001b[0;34m.\u001b[0m\u001b[0mvalues\u001b[0m\u001b[0;34m.\u001b[0m\u001b[0mT\u001b[0m\u001b[0;34m,\u001b[0m \u001b[0mcmap\u001b[0m\u001b[0;34m=\u001b[0m\u001b[0;34m'binary'\u001b[0m\u001b[0;34m,\u001b[0m \u001b[0mvmin\u001b[0m\u001b[0;34m=\u001b[0m\u001b[0;36m0.\u001b[0m\u001b[0;34m,\u001b[0m \u001b[0mvmax\u001b[0m\u001b[0;34m=\u001b[0m\u001b[0;36m0.5\u001b[0m\u001b[0;34m)\u001b[0m\u001b[0;34m\u001b[0m\u001b[0;34m\u001b[0m\u001b[0m\n\u001b[0m\u001b[1;32m     65\u001b[0m \u001b[0mcbar\u001b[0m \u001b[0;34m=\u001b[0m \u001b[0mfig\u001b[0m\u001b[0;34m.\u001b[0m\u001b[0mcolorbar\u001b[0m\u001b[0;34m(\u001b[0m\u001b[0mmesh\u001b[0m\u001b[0;34m,\u001b[0m \u001b[0max\u001b[0m\u001b[0;34m=\u001b[0m\u001b[0maxs\u001b[0m\u001b[0;34m[\u001b[0m\u001b[0;36m2\u001b[0m\u001b[0;34m,\u001b[0m\u001b[0;36m1\u001b[0m\u001b[0;34m]\u001b[0m\u001b[0;34m)\u001b[0m\u001b[0;34m\u001b[0m\u001b[0;34m\u001b[0m\u001b[0m\n\u001b[1;32m     66\u001b[0m \u001b[0mcbar\u001b[0m\u001b[0;34m.\u001b[0m\u001b[0mset_label\u001b[0m\u001b[0;34m(\u001b[0m\u001b[0mlabel\u001b[0m\u001b[0;34m=\u001b[0m\u001b[0;34m'cloud fraction []'\u001b[0m\u001b[0;34m,\u001b[0m  \u001b[0msize\u001b[0m\u001b[0;34m=\u001b[0m\u001b[0mfontSizeX\u001b[0m\u001b[0;34m)\u001b[0m\u001b[0;34m\u001b[0m\u001b[0;34m\u001b[0m\u001b[0m\n",
      "\u001b[0;31mNameError\u001b[0m: name 'sst_bin_label_cf' is not defined"
     ]
    },
    {
     "data": {
      "image/png": "[encoded data removed]",
      "text/plain": [
       "<Figure size 1152x1152 with 11 Axes>"
      ]
     },
     "metadata": {
      "needs_background": "light"
     },
     "output_type": "display_data"
    }
   ],
   "source": [
    "dict_plot_settings = {\n",
    "    'labelsizeaxes':14,\n",
    "    'fontSizeTitle':16,\n",
    "    'fontSizeX'    :28,\n",
    "    'fontSizeY'    :28,\n",
    "    'cbarAspect'   :10,\n",
    "    'fontSizeCbar' :28,\n",
    "    'rcparams_font':['Tahoma'],\n",
    "    'savefig_dpi'  :100,\n",
    "    'font_size'    :28, \n",
    "    'grid'         :True}\n",
    "\n",
    "\n",
    "# composite figure variables binned in sst \n",
    "path_out_plots = '/Volumes/Extreme SSD/work/006_projects/001_Prec_Trade_Cycle/SST_impact_work/plots/'\n",
    "\n",
    "# plots settings defined by user at the top\n",
    "labelsizeaxes   = dict_plot_settings['labelsizeaxes']\n",
    "fontSizeTitle   = dict_plot_settings['fontSizeTitle']\n",
    "fontSizeX       = dict_plot_settings['fontSizeX']\n",
    "fontSizeY       = dict_plot_settings['fontSizeY']\n",
    "cbarAspect      = dict_plot_settings['cbarAspect']\n",
    "fontSizeCbar    = dict_plot_settings['fontSizeCbar']\n",
    "rcParams['font.sans-serif'] = dict_plot_settings['rcparams_font']\n",
    "matplotlib.rcParams['savefig.dpi'] = dict_plot_settings['savefig_dpi']\n",
    "plt.rcParams.update({'font.size':dict_plot_settings['font_size']})\n",
    "grid = dict_plot_settings['grid']\n",
    "\n",
    "fig, axs = plt.subplots(3, 2, figsize=(16,16), sharey=True, sharex=True, constrained_layout=True)\n",
    "\n",
    "green_diamond = dict(markerfacecolor='b', marker='D')\n",
    "\n",
    "mesh = axs[0,0].pcolormesh(sst_bin_label, dataset_out.height.values, dataset_out.MR.values.T, cmap='inferno', vmin=-5., vmax=5)\n",
    "cbar = fig.colorbar(mesh, ax=axs[0,0])\n",
    "cbar.set_label(label='wvmr [gkg$^{-1}$]',  size=fontSizeX)\n",
    "axs[0,0].set_ylabel('Height [m]', fontsize=fontSizeX)\n",
    "axs[0,0].set_ylim(200,1500)\n",
    "\n",
    "mesh = axs[0,1].pcolormesh(sst_bin_label, dataset_out.height.values, dataset_out.T.values.T, cmap='rainbow', vmin=-5., vmax=5.)\n",
    "cbar = fig.colorbar(mesh, ax=axs[0,1])\n",
    "cbar.set_label(label='air T [$^{\\circ}$C]',  size=fontSizeX)\n",
    "axs[0,1].set_ylim(200,1500)\n",
    "\n",
    "mesh = axs[1,0].pcolormesh(sst_bin_label, dataset_out.height.values, dataset_out.LHF.values.T, cmap='viridis', vmin=-100., vmax=100.)\n",
    "cbar = fig.colorbar(mesh, ax=axs[1,0])\n",
    "cbar.set_label(label='LHF [Wm$^{-2}$]',  size=fontSizeX)\n",
    "axs[1,0].set_ylabel('Height [m]', fontsize=fontSizeX)\n",
    "axs[1,0].set_ylim(200,1500)\n",
    "\n",
    "mesh = axs[1,1].pcolormesh(sst_bin_label, dataset_out.height.values, dataset_out.SHF.values.T, cmap='viridis', vmin=-50., vmax=50.)\n",
    "cbar = fig.colorbar(mesh, ax=axs[1,1])\n",
    "cbar.set_label(label='SHF [Wm$^{-2}$]', size=fontSizeX)\n",
    "axs[1,1].set_ylim(200,1500)\n",
    "\n",
    "\n",
    "mesh = axs[2,0].pcolormesh(sst_bin_label, dataset_out.height.values, dataset_out.VW.values.T, cmap='seismic', vmin=-2., vmax=2.)\n",
    "cbar = fig.colorbar(mesh, ax=axs[2,0])\n",
    "cbar.set_label(label='w [ms$^{-1}$]',  size=fontSizeX)\n",
    "axs[2,0].set_ylabel('Height [m]', fontsize=fontSizeX)\n",
    "axs[2,0].set_xlabel('SST [$^{\\circ}$C]', fontsize=fontSizeX)\n",
    "\n",
    "\n",
    "\n",
    "mesh = axs[2,1].pcolormesh(sst_bin_label_cf, cloud_fraction_concat.height.values, cloud_fraction_concat.cloud_fraction.values.T, cmap='binary', vmin=0., vmax=0.5)\n",
    "cbar = fig.colorbar(mesh, ax=axs[2,1])\n",
    "cbar.set_label(label='cloud fraction []',  size=fontSizeX)\n",
    "axs[2,1].set_xlabel('SST [$^{\\circ}$C]', fontsize=fontSizeX)\n",
    "\n",
    "\n",
    "count = 0\n",
    "for ax, l in zip(axs[:].flatten(), ['(a) ',  '(b) ',  '(c) ',  '(d) ', '(e) ', '(f) ']):\n",
    "    ax.text(-0.05, 1.1, l,  fontweight='black', fontsize=fontSizeX, transform=ax.transAxes)\n",
    "    #ax.set_xlim(SST_binned_arr[0]-0.1, SST_binned_arr[-1]+0.1)\n",
    "    \n",
    "    ax.set_ylim(250.,1500.)\n",
    "    ax.spines[\"top\"].set_visible(False)\n",
    "    ax.spines[\"right\"].set_visible(False)\n",
    "    ax.spines[\"bottom\"].set_linewidth(3)\n",
    "    ax.spines[\"left\"].set_linewidth(3)\n",
    "    ax.xaxis.set_minor_locator(ticker.AutoMinorLocator(n=5))\n",
    "    ax.tick_params(which='minor', length=5, width=2)\n",
    "    ax.tick_params(which='major', length=7, width=3)\n",
    "    ax.xaxis.set_minor_locator(ticker.AutoMinorLocator(n=5))\n",
    "    ax.tick_params(axis='both', labelsize=26)\n",
    "    #ax.grid(True, which='both', color='grey', linestyle=':')\n",
    "    count = count+1\n",
    "fig.savefig(path_out_plots+'profile_lidars_binned_sst.png')"
   ]
  },
  {
   "cell_type": "code",
   "execution_count": null,
   "id": "678222c8",
   "metadata": {},
   "outputs": [],
   "source": []
  }
 ],
 "metadata": {
  "kernelspec": {
   "display_name": "Python 3 (ipykernel)",
   "language": "python",
   "name": "python3"
  },
  "language_info": {
   "codemirror_mode": {
    "name": "ipython",
    "version": 3
   },
   "file_extension": ".py",
   "mimetype": "text/x-python",
   "name": "python",
   "nbconvert_exporter": "python",
   "pygments_lexer": "ipython3",
   "version": "3.9.13"
  }
 },
 "nbformat": 4,
 "nbformat_minor": 5
}
