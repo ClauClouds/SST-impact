{
 "cells": [
  {
   "cell_type": "code",
   "execution_count": 4,
   "id": "957915e2",
   "metadata": {},
   "outputs": [],
   "source": [
    "import numpy as np\n",
    "import matplotlib.pyplot as plt\n",
    "import xarray as xr\n",
    "import matplotlib.pyplot as plt\n",
    "from matplotlib import rcParams\n",
    "import matplotlib\n",
    "import numpy as np\n",
    "import xarray as xr\n",
    "from datetime import datetime, timedelta\n",
    "import matplotlib.dates as mdates\n",
    "import glob\n",
    "import pandas as pd\n",
    "import matplotlib.ticker as ticker\n",
    "from scipy import spatial\n",
    "\n",
    "'''\n",
    "Code to read satellite GOES data foe the period 2/3 feb 2022 and produce a\n",
    "unique dataset with variables SST skin with assigned lat/lon values\n",
    "Note that SST is reported over all water pixels, and only data with quality flag DQF=0 should be used to select clear-sky pixels.\n",
    "'''\n",
    "\n",
    "dict_plot_settings = {\n",
    "    'labelsize'    :32,\n",
    "    'labelsizeaxes':32,\n",
    "    'fontSizeTitle':32,\n",
    "    'fontSizeX'    :32,\n",
    "    'fontSizeY'    :32,\n",
    "    'cbarAspect'   :32,\n",
    "    'fontSizeCbar' :32,\n",
    "    'rcparams_font':['Tahoma'],\n",
    "    'savefig_dpi'  :100,\n",
    "    'font_size'    :32, \n",
    "    'grid'         :True}\n"
   ]
  },
  {
   "cell_type": "code",
   "execution_count": 2,
   "id": "c037d7c2",
   "metadata": {},
   "outputs": [],
   "source": [
    "def goes16_earth_coordinates(x,y):\n",
    "    \"\"\"\n",
    "    From the GOES16 fixed grid to the Earth coordinates in degrees.\n",
    "    \"\"\"\n",
    "    req = 6378137 # m\n",
    "    rpol = 6356752.31414 # m\n",
    "    H = 42164160 # m\n",
    "    lambda0 = -1.308996939 # rad\n",
    "\n",
    "    a = np.sin(x)**2+np.cos(x)**2*(np.cos(y)**2+req**2*np.sin(y)**2/rpol**2) \n",
    "    b = -2*H*np.cos(x)*np.cos(y)\n",
    "    c = H**2-req**2\n",
    "\n",
    "    rs = (-b-np.sqrt(b**2-4*a*c))/(2*a)\n",
    "\n",
    "    sx = rs*np.cos(x)*np.cos(y)\n",
    "    sy = -rs*np.sin(x)\n",
    "    sz = rs*np.cos(x)*np.sin(y)\n",
    "\n",
    "    lat = np.arctan(req**2*sz/(rpol**2*np.sqrt((H-sx)**2+sy**2)))\n",
    "    lon = lambda0-np.arctan(sy/(H-sx))\n",
    "\n",
    "    return lon*180/np.pi, lat*180/np.pi\n",
    "\n",
    "\n",
    "def crop_field(field,lon,lat,area):\n",
    "    \"\"\"\n",
    "    Function to crop a 2d field over the area specified by the list\n",
    "    area = [minlon,maxlon,minlat,maxlat]\n",
    "    \"\"\"\n",
    "    valid_indices = np.argwhere((lon>area[0])&(lon<area[1])&(lat>area[2])&(lat<area[3]))\n",
    "    x_min, y_min = valid_indices.min(axis=0)\n",
    "    x_max, y_max = valid_indices.max(axis=0)\n",
    "    return field[x_min:x_max+1, y_min:y_max+1]"
   ]
  },
  {
   "cell_type": "code",
   "execution_count": 9,
   "id": "6dbe7ac5",
   "metadata": {},
   "outputs": [
    {
     "name": "stdout",
     "output_type": "stream",
     "text": [
      "processing date:20200202_00\n"
     ]
    },
    {
     "name": "stderr",
     "output_type": "stream",
     "text": [
      "/var/folders/vq/pfv4n2796kvc782gmx0q4bhc0000gn/T/ipykernel_10111/3622915893.py:14: RuntimeWarning: invalid value encountered in sqrt\n",
      "  rs = (-b-np.sqrt(b**2-4*a*c))/(2*a)\n"
     ]
    },
    {
     "name": "stdout",
     "output_type": "stream",
     "text": [
      "processing date:20200202_01\n"
     ]
    },
    {
     "name": "stderr",
     "output_type": "stream",
     "text": [
      "/var/folders/vq/pfv4n2796kvc782gmx0q4bhc0000gn/T/ipykernel_10111/3622915893.py:14: RuntimeWarning: invalid value encountered in sqrt\n",
      "  rs = (-b-np.sqrt(b**2-4*a*c))/(2*a)\n"
     ]
    },
    {
     "name": "stdout",
     "output_type": "stream",
     "text": [
      "processing date:20200202_02\n"
     ]
    },
    {
     "name": "stderr",
     "output_type": "stream",
     "text": [
      "/var/folders/vq/pfv4n2796kvc782gmx0q4bhc0000gn/T/ipykernel_10111/3622915893.py:14: RuntimeWarning: invalid value encountered in sqrt\n",
      "  rs = (-b-np.sqrt(b**2-4*a*c))/(2*a)\n"
     ]
    },
    {
     "name": "stdout",
     "output_type": "stream",
     "text": [
      "processing date:20200202_03\n"
     ]
    },
    {
     "name": "stderr",
     "output_type": "stream",
     "text": [
      "/var/folders/vq/pfv4n2796kvc782gmx0q4bhc0000gn/T/ipykernel_10111/3622915893.py:14: RuntimeWarning: invalid value encountered in sqrt\n",
      "  rs = (-b-np.sqrt(b**2-4*a*c))/(2*a)\n"
     ]
    },
    {
     "name": "stdout",
     "output_type": "stream",
     "text": [
      "processing date:20200202_04\n"
     ]
    },
    {
     "name": "stderr",
     "output_type": "stream",
     "text": [
      "/var/folders/vq/pfv4n2796kvc782gmx0q4bhc0000gn/T/ipykernel_10111/3622915893.py:14: RuntimeWarning: invalid value encountered in sqrt\n",
      "  rs = (-b-np.sqrt(b**2-4*a*c))/(2*a)\n"
     ]
    },
    {
     "name": "stdout",
     "output_type": "stream",
     "text": [
      "processing date:20200202_05\n"
     ]
    },
    {
     "name": "stderr",
     "output_type": "stream",
     "text": [
      "/var/folders/vq/pfv4n2796kvc782gmx0q4bhc0000gn/T/ipykernel_10111/3622915893.py:14: RuntimeWarning: invalid value encountered in sqrt\n",
      "  rs = (-b-np.sqrt(b**2-4*a*c))/(2*a)\n"
     ]
    },
    {
     "name": "stdout",
     "output_type": "stream",
     "text": [
      "processing date:20200202_06\n"
     ]
    },
    {
     "name": "stderr",
     "output_type": "stream",
     "text": [
      "/var/folders/vq/pfv4n2796kvc782gmx0q4bhc0000gn/T/ipykernel_10111/3622915893.py:14: RuntimeWarning: invalid value encountered in sqrt\n",
      "  rs = (-b-np.sqrt(b**2-4*a*c))/(2*a)\n"
     ]
    },
    {
     "name": "stdout",
     "output_type": "stream",
     "text": [
      "processing date:20200202_07\n"
     ]
    },
    {
     "name": "stderr",
     "output_type": "stream",
     "text": [
      "/var/folders/vq/pfv4n2796kvc782gmx0q4bhc0000gn/T/ipykernel_10111/3622915893.py:14: RuntimeWarning: invalid value encountered in sqrt\n",
      "  rs = (-b-np.sqrt(b**2-4*a*c))/(2*a)\n"
     ]
    },
    {
     "name": "stdout",
     "output_type": "stream",
     "text": [
      "processing date:20200202_08\n"
     ]
    },
    {
     "name": "stderr",
     "output_type": "stream",
     "text": [
      "/var/folders/vq/pfv4n2796kvc782gmx0q4bhc0000gn/T/ipykernel_10111/3622915893.py:14: RuntimeWarning: invalid value encountered in sqrt\n",
      "  rs = (-b-np.sqrt(b**2-4*a*c))/(2*a)\n"
     ]
    },
    {
     "name": "stdout",
     "output_type": "stream",
     "text": [
      "processing date:20200202_09\n"
     ]
    },
    {
     "name": "stderr",
     "output_type": "stream",
     "text": [
      "/var/folders/vq/pfv4n2796kvc782gmx0q4bhc0000gn/T/ipykernel_10111/3622915893.py:14: RuntimeWarning: invalid value encountered in sqrt\n",
      "  rs = (-b-np.sqrt(b**2-4*a*c))/(2*a)\n"
     ]
    },
    {
     "name": "stdout",
     "output_type": "stream",
     "text": [
      "processing date:20200202_10\n"
     ]
    },
    {
     "name": "stderr",
     "output_type": "stream",
     "text": [
      "/var/folders/vq/pfv4n2796kvc782gmx0q4bhc0000gn/T/ipykernel_10111/3622915893.py:14: RuntimeWarning: invalid value encountered in sqrt\n",
      "  rs = (-b-np.sqrt(b**2-4*a*c))/(2*a)\n"
     ]
    },
    {
     "name": "stdout",
     "output_type": "stream",
     "text": [
      "processing date:20200202_11\n"
     ]
    },
    {
     "name": "stderr",
     "output_type": "stream",
     "text": [
      "/var/folders/vq/pfv4n2796kvc782gmx0q4bhc0000gn/T/ipykernel_10111/3622915893.py:14: RuntimeWarning: invalid value encountered in sqrt\n",
      "  rs = (-b-np.sqrt(b**2-4*a*c))/(2*a)\n"
     ]
    },
    {
     "name": "stdout",
     "output_type": "stream",
     "text": [
      "processing date:20200202_12\n"
     ]
    },
    {
     "name": "stderr",
     "output_type": "stream",
     "text": [
      "/var/folders/vq/pfv4n2796kvc782gmx0q4bhc0000gn/T/ipykernel_10111/3622915893.py:14: RuntimeWarning: invalid value encountered in sqrt\n",
      "  rs = (-b-np.sqrt(b**2-4*a*c))/(2*a)\n"
     ]
    },
    {
     "name": "stdout",
     "output_type": "stream",
     "text": [
      "processing date:20200202_13\n"
     ]
    },
    {
     "name": "stderr",
     "output_type": "stream",
     "text": [
      "/var/folders/vq/pfv4n2796kvc782gmx0q4bhc0000gn/T/ipykernel_10111/3622915893.py:14: RuntimeWarning: invalid value encountered in sqrt\n",
      "  rs = (-b-np.sqrt(b**2-4*a*c))/(2*a)\n"
     ]
    },
    {
     "name": "stdout",
     "output_type": "stream",
     "text": [
      "processing date:20200202_14\n"
     ]
    },
    {
     "name": "stderr",
     "output_type": "stream",
     "text": [
      "/var/folders/vq/pfv4n2796kvc782gmx0q4bhc0000gn/T/ipykernel_10111/3622915893.py:14: RuntimeWarning: invalid value encountered in sqrt\n",
      "  rs = (-b-np.sqrt(b**2-4*a*c))/(2*a)\n"
     ]
    },
    {
     "name": "stdout",
     "output_type": "stream",
     "text": [
      "processing date:20200202_15\n"
     ]
    },
    {
     "name": "stderr",
     "output_type": "stream",
     "text": [
      "/var/folders/vq/pfv4n2796kvc782gmx0q4bhc0000gn/T/ipykernel_10111/3622915893.py:14: RuntimeWarning: invalid value encountered in sqrt\n",
      "  rs = (-b-np.sqrt(b**2-4*a*c))/(2*a)\n"
     ]
    },
    {
     "name": "stdout",
     "output_type": "stream",
     "text": [
      "processing date:20200202_16\n"
     ]
    },
    {
     "name": "stderr",
     "output_type": "stream",
     "text": [
      "/var/folders/vq/pfv4n2796kvc782gmx0q4bhc0000gn/T/ipykernel_10111/3622915893.py:14: RuntimeWarning: invalid value encountered in sqrt\n",
      "  rs = (-b-np.sqrt(b**2-4*a*c))/(2*a)\n"
     ]
    },
    {
     "name": "stdout",
     "output_type": "stream",
     "text": [
      "processing date:20200202_17\n"
     ]
    },
    {
     "name": "stderr",
     "output_type": "stream",
     "text": [
      "/var/folders/vq/pfv4n2796kvc782gmx0q4bhc0000gn/T/ipykernel_10111/3622915893.py:14: RuntimeWarning: invalid value encountered in sqrt\n",
      "  rs = (-b-np.sqrt(b**2-4*a*c))/(2*a)\n"
     ]
    },
    {
     "name": "stdout",
     "output_type": "stream",
     "text": [
      "processing date:20200202_18\n"
     ]
    },
    {
     "name": "stderr",
     "output_type": "stream",
     "text": [
      "/var/folders/vq/pfv4n2796kvc782gmx0q4bhc0000gn/T/ipykernel_10111/3622915893.py:14: RuntimeWarning: invalid value encountered in sqrt\n",
      "  rs = (-b-np.sqrt(b**2-4*a*c))/(2*a)\n"
     ]
    },
    {
     "name": "stdout",
     "output_type": "stream",
     "text": [
      "processing date:20200202_19\n"
     ]
    },
    {
     "name": "stderr",
     "output_type": "stream",
     "text": [
      "/var/folders/vq/pfv4n2796kvc782gmx0q4bhc0000gn/T/ipykernel_10111/3622915893.py:14: RuntimeWarning: invalid value encountered in sqrt\n",
      "  rs = (-b-np.sqrt(b**2-4*a*c))/(2*a)\n"
     ]
    },
    {
     "name": "stdout",
     "output_type": "stream",
     "text": [
      "processing date:20200202_20\n"
     ]
    },
    {
     "name": "stderr",
     "output_type": "stream",
     "text": [
      "/var/folders/vq/pfv4n2796kvc782gmx0q4bhc0000gn/T/ipykernel_10111/3622915893.py:14: RuntimeWarning: invalid value encountered in sqrt\n",
      "  rs = (-b-np.sqrt(b**2-4*a*c))/(2*a)\n"
     ]
    },
    {
     "name": "stdout",
     "output_type": "stream",
     "text": [
      "processing date:20200202_21\n"
     ]
    },
    {
     "name": "stderr",
     "output_type": "stream",
     "text": [
      "/var/folders/vq/pfv4n2796kvc782gmx0q4bhc0000gn/T/ipykernel_10111/3622915893.py:14: RuntimeWarning: invalid value encountered in sqrt\n",
      "  rs = (-b-np.sqrt(b**2-4*a*c))/(2*a)\n"
     ]
    },
    {
     "name": "stdout",
     "output_type": "stream",
     "text": [
      "processing date:20200202_22\n"
     ]
    },
    {
     "name": "stderr",
     "output_type": "stream",
     "text": [
      "/var/folders/vq/pfv4n2796kvc782gmx0q4bhc0000gn/T/ipykernel_10111/3622915893.py:14: RuntimeWarning: invalid value encountered in sqrt\n",
      "  rs = (-b-np.sqrt(b**2-4*a*c))/(2*a)\n"
     ]
    },
    {
     "name": "stdout",
     "output_type": "stream",
     "text": [
      "processing date:20200202_23\n"
     ]
    },
    {
     "name": "stderr",
     "output_type": "stream",
     "text": [
      "/var/folders/vq/pfv4n2796kvc782gmx0q4bhc0000gn/T/ipykernel_10111/3622915893.py:14: RuntimeWarning: invalid value encountered in sqrt\n",
      "  rs = (-b-np.sqrt(b**2-4*a*c))/(2*a)\n"
     ]
    },
    {
     "name": "stdout",
     "output_type": "stream",
     "text": [
      "processing date:20200203_00\n"
     ]
    },
    {
     "name": "stderr",
     "output_type": "stream",
     "text": [
      "/var/folders/vq/pfv4n2796kvc782gmx0q4bhc0000gn/T/ipykernel_10111/3622915893.py:14: RuntimeWarning: invalid value encountered in sqrt\n",
      "  rs = (-b-np.sqrt(b**2-4*a*c))/(2*a)\n"
     ]
    },
    {
     "name": "stdout",
     "output_type": "stream",
     "text": [
      "processing date:20200203_01\n"
     ]
    },
    {
     "name": "stderr",
     "output_type": "stream",
     "text": [
      "/var/folders/vq/pfv4n2796kvc782gmx0q4bhc0000gn/T/ipykernel_10111/3622915893.py:14: RuntimeWarning: invalid value encountered in sqrt\n",
      "  rs = (-b-np.sqrt(b**2-4*a*c))/(2*a)\n"
     ]
    },
    {
     "name": "stdout",
     "output_type": "stream",
     "text": [
      "processing date:20200203_02\n"
     ]
    },
    {
     "name": "stderr",
     "output_type": "stream",
     "text": [
      "/var/folders/vq/pfv4n2796kvc782gmx0q4bhc0000gn/T/ipykernel_10111/3622915893.py:14: RuntimeWarning: invalid value encountered in sqrt\n",
      "  rs = (-b-np.sqrt(b**2-4*a*c))/(2*a)\n"
     ]
    },
    {
     "name": "stdout",
     "output_type": "stream",
     "text": [
      "processing date:20200203_03\n"
     ]
    },
    {
     "name": "stderr",
     "output_type": "stream",
     "text": [
      "/var/folders/vq/pfv4n2796kvc782gmx0q4bhc0000gn/T/ipykernel_10111/3622915893.py:14: RuntimeWarning: invalid value encountered in sqrt\n",
      "  rs = (-b-np.sqrt(b**2-4*a*c))/(2*a)\n"
     ]
    },
    {
     "name": "stdout",
     "output_type": "stream",
     "text": [
      "processing date:20200203_04\n"
     ]
    },
    {
     "name": "stderr",
     "output_type": "stream",
     "text": [
      "/var/folders/vq/pfv4n2796kvc782gmx0q4bhc0000gn/T/ipykernel_10111/3622915893.py:14: RuntimeWarning: invalid value encountered in sqrt\n",
      "  rs = (-b-np.sqrt(b**2-4*a*c))/(2*a)\n"
     ]
    },
    {
     "name": "stdout",
     "output_type": "stream",
     "text": [
      "processing date:20200203_05\n"
     ]
    },
    {
     "name": "stderr",
     "output_type": "stream",
     "text": [
      "/var/folders/vq/pfv4n2796kvc782gmx0q4bhc0000gn/T/ipykernel_10111/3622915893.py:14: RuntimeWarning: invalid value encountered in sqrt\n",
      "  rs = (-b-np.sqrt(b**2-4*a*c))/(2*a)\n"
     ]
    },
    {
     "name": "stdout",
     "output_type": "stream",
     "text": [
      "processing date:20200203_06\n"
     ]
    },
    {
     "name": "stderr",
     "output_type": "stream",
     "text": [
      "/var/folders/vq/pfv4n2796kvc782gmx0q4bhc0000gn/T/ipykernel_10111/3622915893.py:14: RuntimeWarning: invalid value encountered in sqrt\n",
      "  rs = (-b-np.sqrt(b**2-4*a*c))/(2*a)\n"
     ]
    },
    {
     "name": "stdout",
     "output_type": "stream",
     "text": [
      "processing date:20200203_07\n"
     ]
    },
    {
     "name": "stderr",
     "output_type": "stream",
     "text": [
      "/var/folders/vq/pfv4n2796kvc782gmx0q4bhc0000gn/T/ipykernel_10111/3622915893.py:14: RuntimeWarning: invalid value encountered in sqrt\n",
      "  rs = (-b-np.sqrt(b**2-4*a*c))/(2*a)\n"
     ]
    },
    {
     "name": "stdout",
     "output_type": "stream",
     "text": [
      "processing date:20200203_08\n"
     ]
    },
    {
     "name": "stderr",
     "output_type": "stream",
     "text": [
      "/var/folders/vq/pfv4n2796kvc782gmx0q4bhc0000gn/T/ipykernel_10111/3622915893.py:14: RuntimeWarning: invalid value encountered in sqrt\n",
      "  rs = (-b-np.sqrt(b**2-4*a*c))/(2*a)\n"
     ]
    },
    {
     "name": "stdout",
     "output_type": "stream",
     "text": [
      "processing date:20200203_09\n"
     ]
    },
    {
     "name": "stderr",
     "output_type": "stream",
     "text": [
      "/var/folders/vq/pfv4n2796kvc782gmx0q4bhc0000gn/T/ipykernel_10111/3622915893.py:14: RuntimeWarning: invalid value encountered in sqrt\n",
      "  rs = (-b-np.sqrt(b**2-4*a*c))/(2*a)\n"
     ]
    },
    {
     "name": "stdout",
     "output_type": "stream",
     "text": [
      "processing date:20200203_10\n"
     ]
    },
    {
     "name": "stderr",
     "output_type": "stream",
     "text": [
      "/var/folders/vq/pfv4n2796kvc782gmx0q4bhc0000gn/T/ipykernel_10111/3622915893.py:14: RuntimeWarning: invalid value encountered in sqrt\n",
      "  rs = (-b-np.sqrt(b**2-4*a*c))/(2*a)\n"
     ]
    },
    {
     "name": "stdout",
     "output_type": "stream",
     "text": [
      "processing date:20200203_11\n"
     ]
    },
    {
     "name": "stderr",
     "output_type": "stream",
     "text": [
      "/var/folders/vq/pfv4n2796kvc782gmx0q4bhc0000gn/T/ipykernel_10111/3622915893.py:14: RuntimeWarning: invalid value encountered in sqrt\n",
      "  rs = (-b-np.sqrt(b**2-4*a*c))/(2*a)\n"
     ]
    },
    {
     "name": "stdout",
     "output_type": "stream",
     "text": [
      "processing date:20200203_12\n"
     ]
    },
    {
     "name": "stderr",
     "output_type": "stream",
     "text": [
      "/var/folders/vq/pfv4n2796kvc782gmx0q4bhc0000gn/T/ipykernel_10111/3622915893.py:14: RuntimeWarning: invalid value encountered in sqrt\n",
      "  rs = (-b-np.sqrt(b**2-4*a*c))/(2*a)\n"
     ]
    },
    {
     "name": "stdout",
     "output_type": "stream",
     "text": [
      "processing date:20200203_13\n"
     ]
    },
    {
     "name": "stderr",
     "output_type": "stream",
     "text": [
      "/var/folders/vq/pfv4n2796kvc782gmx0q4bhc0000gn/T/ipykernel_10111/3622915893.py:14: RuntimeWarning: invalid value encountered in sqrt\n",
      "  rs = (-b-np.sqrt(b**2-4*a*c))/(2*a)\n"
     ]
    },
    {
     "name": "stdout",
     "output_type": "stream",
     "text": [
      "processing date:20200203_14\n"
     ]
    },
    {
     "name": "stderr",
     "output_type": "stream",
     "text": [
      "/var/folders/vq/pfv4n2796kvc782gmx0q4bhc0000gn/T/ipykernel_10111/3622915893.py:14: RuntimeWarning: invalid value encountered in sqrt\n",
      "  rs = (-b-np.sqrt(b**2-4*a*c))/(2*a)\n"
     ]
    },
    {
     "name": "stdout",
     "output_type": "stream",
     "text": [
      "processing date:20200203_15\n"
     ]
    },
    {
     "name": "stderr",
     "output_type": "stream",
     "text": [
      "/var/folders/vq/pfv4n2796kvc782gmx0q4bhc0000gn/T/ipykernel_10111/3622915893.py:14: RuntimeWarning: invalid value encountered in sqrt\n",
      "  rs = (-b-np.sqrt(b**2-4*a*c))/(2*a)\n"
     ]
    },
    {
     "name": "stdout",
     "output_type": "stream",
     "text": [
      "processing date:20200203_16\n"
     ]
    },
    {
     "name": "stderr",
     "output_type": "stream",
     "text": [
      "/var/folders/vq/pfv4n2796kvc782gmx0q4bhc0000gn/T/ipykernel_10111/3622915893.py:14: RuntimeWarning: invalid value encountered in sqrt\n",
      "  rs = (-b-np.sqrt(b**2-4*a*c))/(2*a)\n"
     ]
    },
    {
     "name": "stdout",
     "output_type": "stream",
     "text": [
      "processing date:20200203_17\n"
     ]
    },
    {
     "name": "stderr",
     "output_type": "stream",
     "text": [
      "/var/folders/vq/pfv4n2796kvc782gmx0q4bhc0000gn/T/ipykernel_10111/3622915893.py:14: RuntimeWarning: invalid value encountered in sqrt\n",
      "  rs = (-b-np.sqrt(b**2-4*a*c))/(2*a)\n"
     ]
    },
    {
     "name": "stdout",
     "output_type": "stream",
     "text": [
      "processing date:20200203_18\n"
     ]
    },
    {
     "name": "stderr",
     "output_type": "stream",
     "text": [
      "/var/folders/vq/pfv4n2796kvc782gmx0q4bhc0000gn/T/ipykernel_10111/3622915893.py:14: RuntimeWarning: invalid value encountered in sqrt\n",
      "  rs = (-b-np.sqrt(b**2-4*a*c))/(2*a)\n"
     ]
    },
    {
     "name": "stdout",
     "output_type": "stream",
     "text": [
      "processing date:20200203_19\n"
     ]
    },
    {
     "name": "stderr",
     "output_type": "stream",
     "text": [
      "/var/folders/vq/pfv4n2796kvc782gmx0q4bhc0000gn/T/ipykernel_10111/3622915893.py:14: RuntimeWarning: invalid value encountered in sqrt\n",
      "  rs = (-b-np.sqrt(b**2-4*a*c))/(2*a)\n"
     ]
    },
    {
     "name": "stdout",
     "output_type": "stream",
     "text": [
      "processing date:20200203_20\n"
     ]
    },
    {
     "name": "stderr",
     "output_type": "stream",
     "text": [
      "/var/folders/vq/pfv4n2796kvc782gmx0q4bhc0000gn/T/ipykernel_10111/3622915893.py:14: RuntimeWarning: invalid value encountered in sqrt\n",
      "  rs = (-b-np.sqrt(b**2-4*a*c))/(2*a)\n"
     ]
    },
    {
     "name": "stdout",
     "output_type": "stream",
     "text": [
      "processing date:20200203_21\n"
     ]
    },
    {
     "name": "stderr",
     "output_type": "stream",
     "text": [
      "/var/folders/vq/pfv4n2796kvc782gmx0q4bhc0000gn/T/ipykernel_10111/3622915893.py:14: RuntimeWarning: invalid value encountered in sqrt\n",
      "  rs = (-b-np.sqrt(b**2-4*a*c))/(2*a)\n"
     ]
    },
    {
     "name": "stdout",
     "output_type": "stream",
     "text": [
      "processing date:20200203_22\n"
     ]
    },
    {
     "name": "stderr",
     "output_type": "stream",
     "text": [
      "/var/folders/vq/pfv4n2796kvc782gmx0q4bhc0000gn/T/ipykernel_10111/3622915893.py:14: RuntimeWarning: invalid value encountered in sqrt\n",
      "  rs = (-b-np.sqrt(b**2-4*a*c))/(2*a)\n"
     ]
    },
    {
     "name": "stdout",
     "output_type": "stream",
     "text": [
      "processing date:20200203_23\n"
     ]
    },
    {
     "name": "stderr",
     "output_type": "stream",
     "text": [
      "/var/folders/vq/pfv4n2796kvc782gmx0q4bhc0000gn/T/ipykernel_10111/3622915893.py:14: RuntimeWarning: invalid value encountered in sqrt\n",
      "  rs = (-b-np.sqrt(b**2-4*a*c))/(2*a)\n"
     ]
    }
   ],
   "source": [
    "# reading goes data\n",
    "flag_plot = 0\n",
    "#path2GOES = '/home/agostino/SST-impact_data/'\n",
    "path2GOES = '/Volumes/PortableSSD/GOES_data/skin_T/'\n",
    "filelist = np.sort(glob.glob(path2GOES+'*.nc'))\n",
    "path_out_plots = '/Volumes/Extreme SSD/work/006_projects/001_Prec_Trade_Cycle/SST_impact_work/plots_goes_quicklooks/'\n",
    "# defining box of interest for extracting the data\n",
    "minlon = -55.5; maxlon = -52.; minlat = 5.5; maxlat = 8.5; \n",
    "extent_param = [minlon, maxlon, minlat, maxlat]\n",
    "\n",
    "# reading tsg from merian to extract lat/lon of the ship for the 2 days\n",
    "tsg_file = '/Volumes/Extreme SSD/work/006_projects/001_Prec_Trade_Cycle/tsg_sst_data/tsg/nc/msm_089_1_tsg.nc'\n",
    "tsg = xr.open_dataset(tsg_file)\n",
    "\n",
    "sst_goes = []\n",
    "for ind_file, filename in enumerate(filelist):\n",
    "    \n",
    "    # reading one file\n",
    "    #filename = 'OR_ABI-L2-SSTF-M6_G16_s20200320000144_e20200320059452_c20200320106148.nc'\n",
    "    ds = xr.open_dataset(filename)\n",
    "\n",
    "\n",
    "    # extract time interval of the goes file\n",
    "    dd =  pd.to_datetime(ds.t.values).day\n",
    "    hh =  pd.to_datetime(ds.t.values).hour\n",
    "    time_start = datetime(2020,2,dd,hh,0,0)\n",
    "    if hh == 23:\n",
    "        time_end =  datetime(2020,2,dd,hh,59,59)\n",
    "    else:\n",
    "        time_end =  datetime(2020,2,dd,hh+1,0,0)\n",
    "    if len(str(hh)) == 1:\n",
    "        date = '2020020'+str(dd)+'_0'+str(hh)\n",
    "    else:\n",
    "        date = '2020020'+str(dd)+'_'+str(hh)\n",
    "\n",
    "    print('processing date:'+date)\n",
    "    # select time slice of tsg data corresponding to goes file selected\n",
    "    tsg_slice = tsg.sel(TIME=slice(time_start, time_end))\n",
    "\n",
    "    # converting goes fixed grid to Earth coordinates in degrees.\n",
    "    x = ds.x.values\n",
    "    y = ds.y.values\n",
    "    xx, yy = np.meshgrid(x,y)\n",
    "    lon, lat = goes16_earth_coordinates(xx,yy)\n",
    "\n",
    "\n",
    "    # cropping the sst and sst_flag fields to the eurec4a box of interest\n",
    "    sst = ds.SST.values\n",
    "    dqf = ds.DQF.values\n",
    "    sst_crop = crop_field(sst,lon,lat,extent_param)\n",
    "    lon_crop = crop_field(lon,lon,lat,extent_param)\n",
    "    lat_crop = crop_field(lat,lon,lat,extent_param)\n",
    "    dqf_crop = crop_field(dqf,lon,lat,extent_param)\n",
    "\n",
    "    \n",
    "    # Select only values that are == 0 in the original DQF field.\n",
    "    dqf_mask = dqf_crop+1 \n",
    "    # setting to nans all flag is non zero\n",
    "    dqf_mask[dqf_mask!=1]=np.nan\n",
    "    sst_crop[dqf_mask!=1]=np.nan\n",
    "\n",
    "    # selecting closest lat/lon points of satellite data to the ship trajectory\n",
    "    # Create a KDTree object based on the grid\n",
    "    tree = spatial.KDTree(list(zip(lon_crop.ravel(), lat_crop.ravel())))\n",
    "\n",
    "    # Define the lat/lon points of the ship position we wish to find the nearest neighbor for\n",
    "    pt_list = []\n",
    "    for ind_point in range(len(tsg_slice.LONGITUDE.values)):\n",
    "        pt_list.append([tsg_slice.LONGITUDE.values[ind_point], tsg_slice.LATITUDE.values[ind_point]])\n",
    "\n",
    "    pts = np.array(pt_list)\n",
    "\n",
    "    # Query the points in the KDTree. Output is \n",
    "    # 1) distance of point to the nearest grid neighbor\n",
    "    # 2) index of neighbor point in the tree.\n",
    "    dist_to_neighbor, idx_neighbor = tree.query(pts)\n",
    "\n",
    "    #for point, dist, idx in zip(pts, dist_to_neighbor, idx_neighbor):\n",
    "    #    print('The point %s is nearest the grid location %s and is %.2f units away.' \\\n",
    "    #          % (point, tree.data[idx], dist))\n",
    "\n",
    "    # selecting sst corresponding to the nearest neighbor\n",
    "    sst_goes.append(sst_crop.flat[idx_neighbor])\n",
    "    \n",
    "    \n",
    "    # producing quicklook to check the data matching\n",
    "    if flag_plot ==1:\n",
    "        fig, axs = plt.subplots(1,1, figsize=(24,10), constrained_layout=True)\n",
    "        labelsizeaxes   = dict_plot_settings['labelsizeaxes']\n",
    "        fontSizeTitle   = dict_plot_settings['fontSizeTitle']\n",
    "        fontSizeX       = dict_plot_settings['fontSizeX']\n",
    "        fontSizeY       = dict_plot_settings['fontSizeY']\n",
    "        cbarAspect      = dict_plot_settings['cbarAspect']\n",
    "        fontSizeCbar    = dict_plot_settings['fontSizeCbar']\n",
    "        rcParams['font.sans-serif'] = dict_plot_settings['rcparams_font']\n",
    "        matplotlib.rcParams['savefig.dpi'] = dict_plot_settings['savefig_dpi']\n",
    "        plt.rcParams.update({'font.size':dict_plot_settings['font_size']})    \n",
    "        #ax.set_xlim(SST_binned_arr[0]-0.1, SST_binned_arr[-1]+0.1)\n",
    "\n",
    "        axs.spines[\"top\"].set_visible(False)\n",
    "        axs.spines[\"right\"].set_visible(False)\n",
    "        axs.spines[\"bottom\"].set_linewidth(3)\n",
    "        axs.spines[\"left\"].set_linewidth(3)\n",
    "        axs.xaxis.set_minor_locator(ticker.AutoMinorLocator(n=5))\n",
    "        axs.tick_params(which='minor', length=5, width=2)\n",
    "        axs.tick_params(which='major', length=7, width=3)\n",
    "        axs.xaxis.set_minor_locator(ticker.AutoMinorLocator(n=5))\n",
    "        axs.tick_params(axis='both', labelsize=32)\n",
    "\n",
    "        sst_vmin = 26.; sst_vmax = 28.\n",
    "\n",
    "        plt.pcolormesh(lon_crop,lat_crop,(sst_crop-273.15)*dqf_mask,shading='nearest',vmin=sst_vmin,vmax=sst_vmax)\n",
    "\n",
    "        pc = plt.scatter(lon_crop[dqf_crop==0],lat_crop[dqf_crop==0],c=sst_crop[dqf_crop==0]-273.15,marker='.',\n",
    "                        vmin=sst_vmin,vmax=sst_vmax)\n",
    "\n",
    "        msm = plt.scatter(tsg_slice.LONGITUDE.values, tsg_slice.LATITUDE.values, color='black')\n",
    "        plt.scatter(tree.data[idx_neighbor][:,0], tree.data[idx_neighbor][:,1], facecolor='none', edgecolors='k', s=100)\n",
    "        plt.colorbar(pc)\n",
    "        plt.title(ds.t.values)\n",
    "        fig.savefig(path_out_plots+date+'_quicklooks_goes.png', format='png')\n",
    "\n",
    "sst_goes_arr = np.concatenate(sst_goes)"
   ]
  },
  {
   "cell_type": "code",
   "execution_count": 13,
   "id": "591c9378",
   "metadata": {},
   "outputs": [
    {
     "data": {
      "image/png": "[encoded data removed]",
      "text/plain": [
       "<Figure size 432x288 with 1 Axes>"
      ]
     },
     "metadata": {
      "needs_background": "light"
     },
     "output_type": "display_data"
    }
   ],
   "source": [
    "tsg_case = tsg.sel(TIME=slice(datetime(2020,2,2,0,0,0), datetime(2020,2,3,23,59,59)))\n",
    "plt.plot(tsg_case.TIME.values, sst_goes_arr)\n",
    "\n",
    "# storing data in xarray dataset\n",
    "dim_sst           = ['time']\n",
    "coords         = {\"time\":tsg_case.TIME.values}\n",
    "SST              = xr.DataArray(dims=dim_sst, coords=coords, data=sst_goes_arr,\n",
    "                 attrs={'long_name':'sea surface skin temperature from GOES-R',\n",
    "                        'units':'$^{\\circ}$C'})\n",
    "variables         = {'SST':SST}\n",
    "SST_DS      = xr.Dataset(data_vars = variables,\n",
    "                       coords = coords)\n",
    "SST_DS.to_netcdf(path_out_plots+'SST_goes_merian.nc')\n"
   ]
  },
  {
   "cell_type": "code",
   "execution_count": 11,
   "id": "e8135328-5608-4ef0-a800-d83452db65ec",
   "metadata": {},
   "outputs": [
    {
     "data": {
      "text/plain": [
       "array([nan, nan, nan, nan, nan, nan, nan, nan, nan, nan, nan, nan, nan,\n",
       "       nan, nan, nan, nan, nan, nan, nan, nan, nan, nan, nan, nan, nan,\n",
       "       nan, nan, nan, nan, nan, nan, nan, nan, nan, nan, nan, nan, nan,\n",
       "       nan, nan, nan, nan, nan, nan, nan, nan, nan, nan, nan, nan, nan,\n",
       "       nan, nan, nan, nan, nan, nan, nan, nan], dtype=float32)"
      ]
     },
     "execution_count": 11,
     "metadata": {},
     "output_type": "execute_result"
    }
   ],
   "source": []
  },
  {
   "cell_type": "code",
   "execution_count": 9,
   "id": "cb67afb3",
   "metadata": {},
   "outputs": [
    {
     "data": {
      "text/plain": [
       "Text(0.5, 1.0, '2020-02-02T00:29:59.215728000')"
      ]
     },
     "execution_count": 9,
     "metadata": {},
     "output_type": "execute_result"
    },
    {
     "data": {
      "image/png": "[encoded data removed]",
      "text/plain": [
       "<Figure size 432x288 with 2 Axes>"
      ]
     },
     "metadata": {
      "needs_background": "light"
     },
     "output_type": "display_data"
    }
   ],
   "source": [
    "\n",
    "\n",
    "\n",
    "\n"
   ]
  },
  {
   "cell_type": "code",
   "execution_count": 69,
   "id": "d843e78e-74ce-499e-bdf7-5c2f771b087f",
   "metadata": {},
   "outputs": [
    {
     "data": {
      "text/plain": [
       "[array([[-52.73038]]), array([[7.32908]])]"
      ]
     },
     "execution_count": 69,
     "metadata": {},
     "output_type": "execute_result"
    }
   ],
   "source": [
    "np.meshgrid(tsg_slice.LONGITUDE.values[0], tsg_slice.LATITUDE.values[0])"
   ]
  },
  {
   "cell_type": "code",
   "execution_count": 33,
   "id": "4a33cf45",
   "metadata": {},
   "outputs": [
    {
     "name": "stdout",
     "output_type": "stream",
     "text": [
      "-84.69093211900741\n",
      "33.84616229060915\n"
     ]
    }
   ],
   "source": [
    "# Test points\n",
    "x = -0.024052 #ds.x.values\n",
    "y = 0.095340 #ds.y.values\n",
    "\n",
    "# Compute the lon-lat coordinates.\n",
    "req = 6378137 # m\n",
    "rpol = 6356752.31414 # m\n",
    "H = 42164160 # m\n",
    "lambda0 = -1.308996939 # rad\n",
    "\n",
    "a = np.sin(x)**2+np.cos(x)**2*(np.cos(y)**2+req**2*np.sin(y)**2/rpol**2) \n",
    "b = -2*H*np.cos(x)*np.cos(y)\n",
    "c = H**2-req**2\n",
    "\n",
    "rs = (-b-np.sqrt(b**2-4*a*c))/(2*a)\n",
    "\n",
    "sx = rs*np.cos(x)*np.cos(y)\n",
    "sy = -rs*np.sin(x)\n",
    "sz = rs*np.cos(x)*np.sin(y)\n",
    "\n",
    "lat = np.arctan(req**2*sz/(rpol**2*np.sqrt((H-sx)**2+sy**2)))\n",
    "lon = lambda0-np.arctan(sy/(H-sx))\n",
    "print(lon*180/np.pi)\n",
    "print(lat*180/np.pi)"
   ]
  },
  {
   "cell_type": "code",
   "execution_count": 32,
   "id": "efbb581f",
   "metadata": {},
   "outputs": [
    {
     "name": "stdout",
     "output_type": "stream",
     "text": [
      "1.0000610393966292\n",
      "-83921070.03211282\n",
      "1737135756914831\n",
      "37116295.874486506\n",
      "36937048.733040124\n",
      "892635.0778582101\n",
      "3532287.212730611\n"
     ]
    }
   ],
   "source": [
    "print(a)\n",
    "print(b)\n",
    "print(c)\n",
    "print(rs)\n",
    "print(sx)\n",
    "print(sy)\n",
    "print(sz)"
   ]
  },
  {
   "cell_type": "code",
   "execution_count": 36,
   "id": "c0f54d33",
   "metadata": {},
   "outputs": [],
   "source": []
  },
  {
   "cell_type": "code",
   "execution_count": 37,
   "id": "3fac7960",
   "metadata": {},
   "outputs": [
    {
     "name": "stdout",
     "output_type": "stream",
     "text": [
      "-84.69093211900741\n",
      "33.84616229060915\n"
     ]
    }
   ],
   "source": [
    "lon,lat = goes16_earth_coordinates(-0.024052,0.095340)\n",
    "print(lon)\n",
    "print(lat)"
   ]
  },
  {
   "cell_type": "code",
   "execution_count": 71,
   "id": "b0c1bec7",
   "metadata": {},
   "outputs": [
    {
     "data": {
      "text/plain": [
       "array([[ 0.145, 10.   ],\n",
       "       [ 0.156, 15.   ],\n",
       "       [ 0.254, 28.   ],\n",
       "       [ 0.322, 35.   ],\n",
       "       [ 0.421, 55.   ]])"
      ]
     },
     "execution_count": 71,
     "metadata": {},
     "output_type": "execute_result"
    }
   ],
   "source": [
    "myList = np.asarray([[0.145, 10], [0.156, 15], [0.254, 28], [0.322, 35], [0.421, 55]])\n",
    "myList"
   ]
  },
  {
   "cell_type": "code",
   "execution_count": 72,
   "id": "96588876-67c9-43d6-8325-6b253b6a3206",
   "metadata": {},
   "outputs": [
    {
     "data": {
      "text/plain": [
       "(5, 2)"
      ]
     },
     "execution_count": 72,
     "metadata": {},
     "output_type": "execute_result"
    }
   ],
   "source": [
    "np.shape(myList)"
   ]
  },
  {
   "cell_type": "code",
   "execution_count": 74,
   "id": "bd9704b0-a934-4d67-bbe7-bcd793b635b3",
   "metadata": {},
   "outputs": [
    {
     "name": "stdout",
     "output_type": "stream",
     "text": [
      "[[ 0  0  0  0  0  0  0  0]\n",
      " [ 5  5  5  5  5  5  5  5]\n",
      " [10 10 10 10 10 10 10 10]\n",
      " [15 15 15 15 15 15 15 15]\n",
      " [20 20 20 20 20 20 20 20]\n",
      " [25 25 25 25 25 25 25 25]\n",
      " [30 30 30 30 30 30 30 30]\n",
      " [35 35 35 35 35 35 35 35]]\n"
     ]
    }
   ],
   "source": [
    "# Make a 2D grid\n",
    "x, y = np.mgrid[0:40:5, 0:80:10]\n",
    "print(x)"
   ]
  },
  {
   "cell_type": "code",
   "execution_count": 75,
   "id": "b0e9d296-1d71-448e-aab6-ab767ab77f77",
   "metadata": {},
   "outputs": [
    {
     "name": "stdout",
     "output_type": "stream",
     "text": [
      "[[ 0 10 20 30 40 50 60 70]\n",
      " [ 0 10 20 30 40 50 60 70]\n",
      " [ 0 10 20 30 40 50 60 70]\n",
      " [ 0 10 20 30 40 50 60 70]\n",
      " [ 0 10 20 30 40 50 60 70]\n",
      " [ 0 10 20 30 40 50 60 70]\n",
      " [ 0 10 20 30 40 50 60 70]\n",
      " [ 0 10 20 30 40 50 60 70]]\n"
     ]
    }
   ],
   "source": [
    "print(y)"
   ]
  },
  {
   "cell_type": "code",
   "execution_count": 82,
   "id": "5b477d15-5ea8-4ae4-b07d-fbd6e29b9edb",
   "metadata": {},
   "outputs": [
    {
     "name": "stdout",
     "output_type": "stream",
     "text": [
      "The point [7 7] is nearest the grid location [ 5. 10.] and is 3.61 units away.\n",
      "The point [25 35] is nearest the grid location [25. 30.] and is 5.00 units away.\n",
      "The point [30 30] is nearest the grid location [30. 30.] and is 0.00 units away.\n"
     ]
    },
    {
     "data": {
      "text/plain": [
       "<matplotlib.collections.PathCollection at 0x7f9cb421deb0>"
      ]
     },
     "execution_count": 82,
     "metadata": {},
     "output_type": "execute_result"
    },
    {
     "data": {
      "image/png": "[encoded data removed]",
      "text/plain": [
       "<Figure size 432x288 with 1 Axes>"
      ]
     },
     "metadata": {
      "needs_background": "light"
     },
     "output_type": "display_data"
    }
   ],
   "source": [
    "# Create a KDTree object based on the grid\n",
    "tree = spatial.KDTree(list(zip(x.ravel(), y.ravel())))\n",
    "\n",
    "# Specify a set of points you wish to find the nearest neighbor for\n",
    "pts = np.array([[7, 7], [25, 35], [30,30]])\n",
    "\n",
    "\n",
    "# Query the points in the KDTree. Output is \n",
    "# 1) distance of point to the nearest grid neighbor\n",
    "# 2) index of neighbor point in the tree.\n",
    "dist_to_neighbor, idx_neighbor = tree.query(pts)\n",
    "\n",
    "\n",
    "for point, dist, idx in zip(pts, dist_to_neighbor, idx_neighbor):\n",
    "    print('The point %s is nearest the grid location %s and is %.2f units away.' \\\n",
    "          % (point, tree.data[idx], dist))\n",
    "    \n",
    "    \n",
    "plt.pcolormesh(x, y, x*y, cmap=\"Spectral\", alpha=.5)\n",
    "for i in pts:\n",
    "    plt.scatter(i[0], i[1], marker='^', s=100)\n",
    "\n",
    "plt.scatter(tree.data[idx_neighbor][:,0], tree.data[idx_neighbor][:,1], facecolor='none', edgecolors='k', s=100)"
   ]
  }
 ],
 "metadata": {
  "kernelspec": {
   "display_name": "Python 3 (ipykernel)",
   "language": "python",
   "name": "python3"
  },
  "language_info": {
   "codemirror_mode": {
    "name": "ipython",
    "version": 3
   },
   "file_extension": ".py",
   "mimetype": "text/x-python",
   "name": "python",
   "nbconvert_exporter": "python",
   "pygments_lexer": "ipython3",
   "version": "3.8.8"
  }
 },
 "nbformat": 4,
 "nbformat_minor": 5
}
