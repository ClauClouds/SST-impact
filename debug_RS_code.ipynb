{
 "cells": [
  {
   "cell_type": "code",
   "execution_count": 12,
   "id": "339a63ea-93da-4377-ac77-d6c50d0daf6c",
   "metadata": {},
   "outputs": [
    {
     "name": "stdout",
     "output_type": "stream",
     "text": [
      "n rs vaisala 19\n",
      "n rs meteomodem 19\n",
      "n rs vaisala mm 19\n",
      "\n"
     ]
    },
    {
     "name": "stderr",
     "output_type": "stream",
     "text": [
      "/Users/claudia/opt/anaconda3/lib/python3.8/site-packages/xarray/core/alignment.py:307: FutureWarning: Index.__or__ operating as a set operation is deprecated, in the future this will be a logical operation matching Series.__or__.  Use index.union(other) instead\n",
      "  index = joiner(matching_indexes)\n"
     ]
    }
   ],
   "source": [
    "#!/usr/bin/env python3\n",
    "# -*- coding: utf-8 -*-\n",
    "\"\"\"\n",
    "Created on Wed Jul 22 10:42:54 2020\n",
    "@ date; 31 august 2021\n",
    "@author: Claudia Acquistapace\n",
    "@goal: plot radiosonde quantities for the case study of the 2nd february using data from l'atalante\n",
    "\"\"\"\n",
    "\n",
    "# importing necessary libraries\n",
    "import matplotlib.pyplot as plt\n",
    "from matplotlib import rcParams\n",
    "import matplotlib\n",
    "import numpy as np\n",
    "import xarray as xr\n",
    "from datetime import datetime\n",
    "import matplotlib.dates as mdates\n",
    "import glob\n",
    "from myFunctions import lcl\n",
    "from myFunctions import f_closest\n",
    "from warnings import warn\n",
    "import numpy as np\n",
    "import pandas as pd\n",
    "import datetime as dt\n",
    "import matplotlib.pyplot as plt\n",
    "from scipy import interpolate\n",
    "import custom_color_palette as ccp\n",
    "from matplotlib import rcParams\n",
    "import matplotlib.ticker as ticker\n",
    "\n",
    "# reading radiosondes\n",
    "path_RS = '/Volumes/Extreme SSD/work/006_projects/001_Prec_Trade_Cycle/radiosondes_atalante/case_1/'\n",
    "file_list_RS = [path_RS+'EUREC4A_Atalante_Vaisala-RS_L2_v3.0.0.nc', path_RS+'EUREC4A_Atalante_Meteomodem-RS_L2_v3.0.0.nc', path_RS+'EUREC4A_MS-Merian_Vaisala-RS_L2_v3.0.0.nc']\n",
    "path_out = '/Volumes/Extreme SSD/work/006_projects/001_Prec_Trade_Cycle/post_processed_data/'\n",
    "# +\n",
    "# read radiosonde from vaisala\n",
    "data_RS_vaisala = xr.open_dataset(file_list_RS[0])\n",
    "\n",
    "# read time of the launch for all radiosondes\n",
    "time_launch = pd.to_datetime(data_RS_vaisala.launch_time.values)\n",
    "sounding_id = data_RS_vaisala.sounding.values\n",
    "\n",
    "# find indeces for the cold patch\n",
    "ind = np.where((time_launch > datetime(2020,2,2,0,0,0)) * (time_launch < datetime(2020,2,3,23,59,59)))[0]\n",
    "start = sounding_id[ind[0]]\n",
    "end = sounding_id[ind[-1]]\n",
    "\n",
    "# selecting data_RS\n",
    "data_vaisala_sel = data_RS_vaisala.sel(sounding=slice(start, end))\n",
    "print('n rs vaisala', len(data_vaisala_sel))\n",
    "\n",
    "# +\n",
    "# read radiosonde from meteogram\n",
    "data_RS_meteo = xr.open_dataset(file_list_RS[1])\n",
    "\n",
    "# read time of the launch for all radiosondes\n",
    "time_launch = pd.to_datetime(data_RS_meteo.launch_time.values)\n",
    "sounding_id = data_RS_meteo.sounding.values\n",
    "\n",
    "# find indeces for the cold patch\n",
    "ind = np.where((time_launch > datetime(2020,2,2,0,0,0)) * (time_launch < datetime(2020,2,3,23,59,59)))[0]\n",
    "start = sounding_id[ind[0]]\n",
    "end = sounding_id[ind[-1]]\n",
    "\n",
    "# selecting data_RS\n",
    "data_meteo_sel = data_RS_meteo.sel(sounding=slice(start, end))\n",
    "print('n rs meteomodem', len(data_meteo_sel))\n",
    "\n",
    "# reading RS merian\n",
    "data_RS_vaisala_MM = xr.open_dataset(file_list_RS[2])\n",
    "\n",
    "# read time of the launch for all radiosondes\n",
    "time_launch_mm = pd.to_datetime(data_RS_vaisala_MM.launch_time.values)\n",
    "sounding_id_mm = data_RS_vaisala_MM.sounding.values\n",
    "\n",
    "# find indeces for the cold patch\n",
    "ind_mm = np.where((time_launch_mm > datetime(2020,2,2,0,0,0)) * (time_launch_mm < datetime(2020,2,3,23,59,59)))[0]\n",
    "start_mm = sounding_id_mm[ind_mm[0]]\n",
    "end_mm = sounding_id_mm[ind_mm[-1]]\n",
    "\n",
    "# selecting data_RS\n",
    "data_vaisala_mm_sel = data_RS_vaisala_MM.sel(sounding=slice(start_mm, end_mm))\n",
    "print('n rs vaisala mm', len(data_vaisala_mm_sel))\n",
    "\n",
    "# +\n",
    "# merging the two selected datasets\n",
    "data_patch = xr.merge([data_vaisala_sel, data_meteo_sel, data_vaisala_mm_sel])\n",
    "print()\n",
    "\n",
    "# re-ordering files in temporal order\n",
    "sounding_id = pd.to_datetime(data_patch.launch_time.values)\n",
    "\n",
    "# re-ordering and saving order of indeces in ind_sorted\n",
    "soundings_strings_sorted = np.sort(sounding_id)\n",
    "ind_sorted = np.argsort(sounding_id)\n"
   ]
  },
  {
   "cell_type": "code",
   "execution_count": 13,
   "id": "96daad34-c88a-4610-87ab-fd628a3c9b8b",
   "metadata": {},
   "outputs": [
    {
     "data": {
      "text/plain": [
       "array(['2020-02-02T00:44:19.583056000', '2020-02-02T02:11:00.780326000',\n",
       "       '2020-02-02T04:40:49.757005000', '2020-02-02T06:00:07.164235000',\n",
       "       '2020-02-02T08:41:12.869950000', '2020-02-02T10:13:51.456500000',\n",
       "       '2020-02-02T12:04:55.877013000', '2020-02-02T12:44:30.460057000',\n",
       "       '2020-02-02T13:22:52.895287000', '2020-02-02T14:14:09.173317000',\n",
       "       '2020-02-02T16:45:18.436984000', '2020-02-02T18:13:03.904394000',\n",
       "       '2020-02-02T19:32:36.000000000', '2020-02-02T20:15:04.000000000',\n",
       "       '2020-02-02T21:00:07.000000000', '2020-02-02T21:49:56.000000000',\n",
       "       '2020-02-02T22:40:34.000000000', '2020-02-02T22:46:37.763015000',\n",
       "       '2020-02-02T23:36:42.000000000', '2020-02-03T00:03:06.060986000',\n",
       "       '2020-02-03T00:29:08.000000000', '2020-02-03T01:21:42.000000000',\n",
       "       '2020-02-03T02:04:00.000000000', '2020-02-03T02:41:40.043016000',\n",
       "       '2020-02-03T02:54:45.000000000', '2020-02-03T03:46:02.000000000',\n",
       "       '2020-02-03T04:18:43.510016000', '2020-02-03T04:36:48.000000000',\n",
       "       '2020-02-03T05:40:35.000000000', '2020-02-03T06:27:00.000000000',\n",
       "       '2020-02-03T07:18:50.000000000', '2020-02-03T07:47:38.960013000',\n",
       "       '2020-02-03T08:02:41.000000000', '2020-02-03T08:48:12.000000000',\n",
       "       '2020-02-03T09:19:06.914473000', '2020-02-03T09:37:16.000000000',\n",
       "       '2020-02-03T10:21:56.000000000', '2020-02-03T10:40:11.906999000',\n",
       "       '2020-02-03T11:09:29.000000000', '2020-02-03T11:58:48.000000000',\n",
       "       '2020-02-03T12:06:10.987936000', '2020-02-03T12:48:00.000000000',\n",
       "       '2020-02-03T13:33:44.000000000', '2020-02-03T14:26:54.000000000',\n",
       "       '2020-02-03T14:45:15.630167000', '2020-02-03T15:13:07.000000000',\n",
       "       '2020-02-03T16:10:09.956167000', '2020-02-03T16:30:38.000000000',\n",
       "       '2020-02-03T17:22:06.000000000', '2020-02-03T18:10:13.000000000',\n",
       "       '2020-02-03T19:20:35.950014000', '2020-02-03T21:02:15.921298000',\n",
       "       '2020-02-03T22:44:22.240000000'], dtype='datetime64[ns]')"
      ]
     },
     "execution_count": 13,
     "metadata": {},
     "output_type": "execute_result"
    }
   ],
   "source": [
    "soundings_strings_sorted"
   ]
  },
  {
   "cell_type": "code",
   "execution_count": 14,
   "id": "bf8d4dfe-f35c-4163-8728-b2e257de353f",
   "metadata": {},
   "outputs": [
    {
     "data": {
      "text/plain": [
       "53"
      ]
     },
     "execution_count": 14,
     "metadata": {},
     "output_type": "execute_result"
    }
   ],
   "source": [
    "len(soundings_strings_sorted)"
   ]
  },
  {
   "cell_type": "code",
   "execution_count": 3,
   "id": "214415a8-7630-4206-9cfd-231ff94832fb",
   "metadata": {},
   "outputs": [
    {
     "data": {
      "text/plain": [
       "51"
      ]
     },
     "execution_count": 3,
     "metadata": {},
     "output_type": "execute_result"
    }
   ],
   "source": [
    "len(soundings_strings_sorted)"
   ]
  },
  {
   "cell_type": "code",
   "execution_count": null,
   "id": "5e5c75eb-a91e-4e74-9cd8-0d2e379e57a9",
   "metadata": {},
   "outputs": [],
   "source": []
  }
 ],
 "metadata": {
  "kernelspec": {
   "display_name": "Python 3 (ipykernel)",
   "language": "python",
   "name": "python3"
  },
  "language_info": {
   "codemirror_mode": {
    "name": "ipython",
    "version": 3
   },
   "file_extension": ".py",
   "mimetype": "text/x-python",
   "name": "python",
   "nbconvert_exporter": "python",
   "pygments_lexer": "ipython3",
   "version": "3.8.8"
  }
 },
 "nbformat": 4,
 "nbformat_minor": 5
}
